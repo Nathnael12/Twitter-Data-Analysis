{
 "cells": [
  {
   "cell_type": "code",
   "execution_count": 1,
   "metadata": {},
   "outputs": [],
   "source": [
    "import pandas as pd\n",
    "from wordcloud import WordCloud, STOPWORDS\n",
    "from nltk.corpus import stopwords\n",
    "from nltk.stem import PorterStemmer\n",
    "import string\n",
    "import numpy as np"
   ]
  },
  {
   "cell_type": "code",
   "execution_count": 2,
   "metadata": {},
   "outputs": [
    {
     "data": {
      "text/html": [
       "<div>\n",
       "<style scoped>\n",
       "    .dataframe tbody tr th:only-of-type {\n",
       "        vertical-align: middle;\n",
       "    }\n",
       "\n",
       "    .dataframe tbody tr th {\n",
       "        vertical-align: top;\n",
       "    }\n",
       "\n",
       "    .dataframe thead th {\n",
       "        text-align: right;\n",
       "    }\n",
       "</style>\n",
       "<table border=\"1\" class=\"dataframe\">\n",
       "  <thead>\n",
       "    <tr style=\"text-align: right;\">\n",
       "      <th></th>\n",
       "      <th>created_at</th>\n",
       "      <th>source</th>\n",
       "      <th>original_text</th>\n",
       "      <th>polarity</th>\n",
       "      <th>subjectivity</th>\n",
       "      <th>lang</th>\n",
       "      <th>favorite_count</th>\n",
       "      <th>retweet_count</th>\n",
       "      <th>original_author</th>\n",
       "      <th>followers_count</th>\n",
       "      <th>friends_count</th>\n",
       "      <th>possibly_sensitive</th>\n",
       "      <th>hashtags</th>\n",
       "      <th>user_mentions</th>\n",
       "      <th>place</th>\n",
       "      <th>clean_text</th>\n",
       "    </tr>\n",
       "  </thead>\n",
       "  <tbody>\n",
       "    <tr>\n",
       "      <th>0</th>\n",
       "      <td>2022-08-03 20:19:13+00:00</td>\n",
       "      <td>&lt;a href=\"http://twitter.com/download/android\" ...</td>\n",
       "      <td>#Pelosi airplane landed safely in #Taiwan 🇹🇼  ...</td>\n",
       "      <td>0.300000</td>\n",
       "      <td>0.203571</td>\n",
       "      <td>en</td>\n",
       "      <td>0</td>\n",
       "      <td>0</td>\n",
       "      <td>DzCritical</td>\n",
       "      <td>318</td>\n",
       "      <td>373</td>\n",
       "      <td>NaN</td>\n",
       "      <td>['Pelosi', 'Taiwan', 'NATO', '5G']</td>\n",
       "      <td>Flightradar24</td>\n",
       "      <td>Algérie</td>\n",
       "      <td>airplane landed safely in  🇹🇼  \\r\\n1  both 🇨🇳...</td>\n",
       "    </tr>\n",
       "    <tr>\n",
       "      <th>1</th>\n",
       "      <td>2022-08-02 15:24:42+00:00</td>\n",
       "      <td>&lt;a href=\"https://mobile.twitter.com\" rel=\"nofo...</td>\n",
       "      <td>Watch the video of the beginning of the Chines...</td>\n",
       "      <td>0.000000</td>\n",
       "      <td>0.000000</td>\n",
       "      <td>en</td>\n",
       "      <td>3</td>\n",
       "      <td>0</td>\n",
       "      <td>toopsat</td>\n",
       "      <td>764</td>\n",
       "      <td>144</td>\n",
       "      <td>False</td>\n",
       "      <td>['Pelosi', 'マツコの知らない世界', 'Yediiklim', 'BadDeci...</td>\n",
       "      <td>Reno Omokri</td>\n",
       "      <td>NaN</td>\n",
       "      <td>watch the video of the beginning of the chines...</td>\n",
       "    </tr>\n",
       "    <tr>\n",
       "      <th>2</th>\n",
       "      <td>2022-08-02 15:02:35+00:00</td>\n",
       "      <td>&lt;a href=\"http://twitter.com/download/android\" ...</td>\n",
       "      <td>#Pelosi \\r\\n#Taipei \\r\\n#taiwan\\r\\n#XiJinping ...</td>\n",
       "      <td>0.000000</td>\n",
       "      <td>0.000000</td>\n",
       "      <td>en</td>\n",
       "      <td>2</td>\n",
       "      <td>0</td>\n",
       "      <td>NassimaLilEmy</td>\n",
       "      <td>64</td>\n",
       "      <td>47</td>\n",
       "      <td>False</td>\n",
       "      <td>['Pelosi', 'Taipei', 'taiwan', 'XiJinping', 'C...</td>\n",
       "      <td>Peter Obi</td>\n",
       "      <td>Algérie</td>\n",
       "      <td>\\r\\n \\r\\n\\r\\n \\r\\n \\r\\non a verge of another ...</td>\n",
       "    </tr>\n",
       "    <tr>\n",
       "      <th>3</th>\n",
       "      <td>2022-08-01 13:51:42+00:00</td>\n",
       "      <td>&lt;a href=\"http://twitter.com/download/android\" ...</td>\n",
       "      <td>#HOBIPALOOZA #LaAcademiaExpulsion #WEURO2022 #...</td>\n",
       "      <td>0.433333</td>\n",
       "      <td>0.733333</td>\n",
       "      <td>en</td>\n",
       "      <td>0</td>\n",
       "      <td>0</td>\n",
       "      <td>d_dhayae</td>\n",
       "      <td>60</td>\n",
       "      <td>463</td>\n",
       "      <td>False</td>\n",
       "      <td>['HOBIPALOOZA', 'LaAcademiaExpulsion', 'WEURO2...</td>\n",
       "      <td>BBC News (World)</td>\n",
       "      <td>Chlef</td>\n",
       "      <td>strong ✍️💜</td>\n",
       "    </tr>\n",
       "    <tr>\n",
       "      <th>4</th>\n",
       "      <td>2022-07-31 20:02:20+00:00</td>\n",
       "      <td>&lt;a href=\"http://twitter.com/download/android\" ...</td>\n",
       "      <td>#Pelosi\\r\\n#china\\r\\nChina Time ✌️ https://t.c...</td>\n",
       "      <td>0.000000</td>\n",
       "      <td>0.000000</td>\n",
       "      <td>en</td>\n",
       "      <td>2</td>\n",
       "      <td>0</td>\n",
       "      <td>Mohamme65404115</td>\n",
       "      <td>39</td>\n",
       "      <td>206</td>\n",
       "      <td>False</td>\n",
       "      <td>['Pelosi', 'china']</td>\n",
       "      <td>Nancy Pelosi</td>\n",
       "      <td>Algérie</td>\n",
       "      <td>\\r\\n\\r\\nchina time ✌️</td>\n",
       "    </tr>\n",
       "  </tbody>\n",
       "</table>\n",
       "</div>"
      ],
      "text/plain": [
       "                  created_at  \\\n",
       "0  2022-08-03 20:19:13+00:00   \n",
       "1  2022-08-02 15:24:42+00:00   \n",
       "2  2022-08-02 15:02:35+00:00   \n",
       "3  2022-08-01 13:51:42+00:00   \n",
       "4  2022-07-31 20:02:20+00:00   \n",
       "\n",
       "                                              source  \\\n",
       "0  <a href=\"http://twitter.com/download/android\" ...   \n",
       "1  <a href=\"https://mobile.twitter.com\" rel=\"nofo...   \n",
       "2  <a href=\"http://twitter.com/download/android\" ...   \n",
       "3  <a href=\"http://twitter.com/download/android\" ...   \n",
       "4  <a href=\"http://twitter.com/download/android\" ...   \n",
       "\n",
       "                                       original_text  polarity  subjectivity  \\\n",
       "0  #Pelosi airplane landed safely in #Taiwan 🇹🇼  ...  0.300000      0.203571   \n",
       "1  Watch the video of the beginning of the Chines...  0.000000      0.000000   \n",
       "2  #Pelosi \\r\\n#Taipei \\r\\n#taiwan\\r\\n#XiJinping ...  0.000000      0.000000   \n",
       "3  #HOBIPALOOZA #LaAcademiaExpulsion #WEURO2022 #...  0.433333      0.733333   \n",
       "4  #Pelosi\\r\\n#china\\r\\nChina Time ✌️ https://t.c...  0.000000      0.000000   \n",
       "\n",
       "  lang  favorite_count  retweet_count  original_author  followers_count  \\\n",
       "0   en               0              0       DzCritical              318   \n",
       "1   en               3              0          toopsat              764   \n",
       "2   en               2              0    NassimaLilEmy               64   \n",
       "3   en               0              0         d_dhayae               60   \n",
       "4   en               2              0  Mohamme65404115               39   \n",
       "\n",
       "   friends_count possibly_sensitive  \\\n",
       "0            373                NaN   \n",
       "1            144              False   \n",
       "2             47              False   \n",
       "3            463              False   \n",
       "4            206              False   \n",
       "\n",
       "                                            hashtags     user_mentions  \\\n",
       "0                 ['Pelosi', 'Taiwan', 'NATO', '5G']     Flightradar24   \n",
       "1  ['Pelosi', 'マツコの知らない世界', 'Yediiklim', 'BadDeci...       Reno Omokri   \n",
       "2  ['Pelosi', 'Taipei', 'taiwan', 'XiJinping', 'C...         Peter Obi   \n",
       "3  ['HOBIPALOOZA', 'LaAcademiaExpulsion', 'WEURO2...  BBC News (World)   \n",
       "4                                ['Pelosi', 'china']      Nancy Pelosi   \n",
       "\n",
       "                            place  \\\n",
       "0                         Algérie   \n",
       "1                             NaN   \n",
       "2                         Algérie   \n",
       "3  Chlef                            \n",
       "4                         Algérie   \n",
       "\n",
       "                                          clean_text  \n",
       "0   airplane landed safely in  🇹🇼  \\r\\n1  both 🇨🇳...  \n",
       "1  watch the video of the beginning of the chines...  \n",
       "2   \\r\\n \\r\\n\\r\\n \\r\\n \\r\\non a verge of another ...  \n",
       "3                                        strong ✍️💜   \n",
       "4                             \\r\\n\\r\\nchina time ✌️   "
      ]
     },
     "execution_count": 2,
     "metadata": {},
     "output_type": "execute_result"
    }
   ],
   "source": [
    "cleaned_df = pd.read_csv('../data/cleaned_tweet_data.csv')\n",
    "cleaned_df.head()"
   ]
  },
  {
   "cell_type": "code",
   "execution_count": 3,
   "metadata": {},
   "outputs": [],
   "source": [
    "# useful functions\n",
    "\n",
    "# a definition to categorize the texts\n",
    "def text_category(p: float) -> str:\n",
    "    if p > 0:\n",
    "        return \"positive\"\n",
    "    elif p == 0:\n",
    "        return \"neutral\"\n",
    "    else:\n",
    "        return \"negative\"\n",
    "\n",
    "# a def to remove neutral values\n",
    "def remove_neutrals(value):\n",
    "    return value != \"neutral\"\n"
   ]
  },
  {
   "cell_type": "markdown",
   "metadata": {},
   "source": [
    "### Let's interprete the polarity of each tweet"
   ]
  },
  {
   "cell_type": "code",
   "execution_count": 4,
   "metadata": {},
   "outputs": [
    {
     "data": {
      "text/plain": [
       "positive    7866\n",
       "neutral     7491\n",
       "negative    2496\n",
       "Name: score, dtype: int64"
      ]
     },
     "execution_count": 4,
     "metadata": {},
     "output_type": "execute_result"
    }
   ],
   "source": [
    "cleaned_df['polarity'] = cleaned_df['polarity'].apply(pd.to_numeric)\n",
    "cleaned_df['score'] = cleaned_df['polarity'].apply(text_category)\n",
    "cleaned_df['score'].value_counts()"
   ]
  },
  {
   "cell_type": "markdown",
   "metadata": {},
   "source": [
    " <b>Sentiment Analysis :</b>identify and extract information."
   ]
  },
  {
   "cell_type": "code",
   "execution_count": 5,
   "metadata": {},
   "outputs": [],
   "source": [
    "from sklearn.feature_extraction.text import CountVectorizer, TfidfTransformer\n",
    "from joblib import dump, load # used for saving and loading sklearn objects\n",
    "from scipy.sparse import save_npz, load_npz # used for saving and loading sparse matrices\n",
    "from sklearn.decomposition import NMF, LatentDirichletAllocation\n",
    "from sklearn.linear_model import SGDClassifier\n",
    "from sklearn.model_selection import train_test_split\n",
    "from scipy.sparse import csr_matrix"
   ]
  },
  {
   "cell_type": "markdown",
   "metadata": {},
   "source": [
    "Visualize tweets' score"
   ]
  },
  {
   "cell_type": "code",
   "execution_count": 21,
   "metadata": {},
   "outputs": [
    {
     "data": {
      "text/plain": [
       "<AxesSubplot:>"
      ]
     },
     "execution_count": 21,
     "metadata": {},
     "output_type": "execute_result"
    },
    {
     "data": {
      "image/png": "[encoded data removed]",
      "text/plain": [
       "<Figure size 576x576 with 1 Axes>"
      ]
     },
     "metadata": {
      "needs_background": "light"
     },
     "output_type": "display_data"
    }
   ],
   "source": [
    "score_count =  cleaned_df['score'].value_counts()\n",
    "score_count.plot(kind=\"bar\", figsize=[8, 8])"
   ]
  },
  {
   "cell_type": "markdown",
   "metadata": {},
   "source": [
    "convert to root form"
   ]
  },
  {
   "cell_type": "code",
   "execution_count": 7,
   "metadata": {},
   "outputs": [],
   "source": [
    "stemmer = PorterStemmer()\n",
    "def stem_word(text: str) -> str:\n",
    "    \n",
    "    stemmed_words = []\n",
    "    sent_list = text.split()\n",
    "    \n",
    "    for word in sent_list:\n",
    "        try:\n",
    "            stemmed_words.append(stemmer.stem(word)) \n",
    "        except:\n",
    "             stemmed_words.append(word)\n",
    "    return ' '.join(stemmed_words)"
   ]
  },
  {
   "cell_type": "code",
   "execution_count": 8,
   "metadata": {},
   "outputs": [
    {
     "name": "stderr",
     "output_type": "stream",
     "text": [
      "C:\\Users\\Natnael\\AppData\\Local\\Temp\\ipykernel_8900\\282449689.py:3: SettingWithCopyWarning: \n",
      "A value is trying to be set on a copy of a slice from a DataFrame.\n",
      "Try using .loc[row_indexer,col_indexer] = value instead\n",
      "\n",
      "See the caveats in the documentation: https://pandas.pydata.org/pandas-docs/stable/user_guide/indexing.html#returning-a-view-versus-a-copy\n",
      "  cleanedTweet['score'] = cleanedTweet[\"score\"].map( lambda score: 1 if score == \"positive\" else 0)\n",
      "C:\\Users\\Natnael\\AppData\\Local\\Temp\\ipykernel_8900\\282449689.py:4: SettingWithCopyWarning: \n",
      "A value is trying to be set on a copy of a slice from a DataFrame.\n",
      "Try using .loc[row_indexer,col_indexer] = value instead\n",
      "\n",
      "See the caveats in the documentation: https://pandas.pydata.org/pandas-docs/stable/user_guide/indexing.html#returning-a-view-versus-a-copy\n",
      "  cleanedTweet['clean_text'] = cleanedTweet['clean_text'].apply(stem_word)\n"
     ]
    }
   ],
   "source": [
    "cleaned_df = cleaned_df.astype({\"clean_text\": str})\n",
    "cleanedTweet = cleaned_df[cleaned_df['score'].map(remove_neutrals)]\n",
    "cleanedTweet['score'] = cleanedTweet[\"score\"].map( lambda score: 1 if score == \"positive\" else 0)\n",
    "cleanedTweet['clean_text'] = cleanedTweet['clean_text'].apply(stem_word)"
   ]
  },
  {
   "cell_type": "code",
   "execution_count": 12,
   "metadata": {},
   "outputs": [
    {
     "data": {
      "text/html": [
       "<div>\n",
       "<style scoped>\n",
       "    .dataframe tbody tr th:only-of-type {\n",
       "        vertical-align: middle;\n",
       "    }\n",
       "\n",
       "    .dataframe tbody tr th {\n",
       "        vertical-align: top;\n",
       "    }\n",
       "\n",
       "    .dataframe thead th {\n",
       "        text-align: right;\n",
       "    }\n",
       "</style>\n",
       "<table border=\"1\" class=\"dataframe\">\n",
       "  <thead>\n",
       "    <tr style=\"text-align: right;\">\n",
       "      <th></th>\n",
       "      <th>score</th>\n",
       "      <th>clean_text</th>\n",
       "    </tr>\n",
       "  </thead>\n",
       "  <tbody>\n",
       "    <tr>\n",
       "      <th>0</th>\n",
       "      <td>1</td>\n",
       "      <td>airplan land safe in 🇹🇼 1 both 🇨🇳 amp 🇺🇸 are p...</td>\n",
       "    </tr>\n",
       "    <tr>\n",
       "      <th>3</th>\n",
       "      <td>1</td>\n",
       "      <td>strong ✍️💜</td>\n",
       "    </tr>\n",
       "    <tr>\n",
       "      <th>5</th>\n",
       "      <td>1</td>\n",
       "      <td>v382 intro logo anim blue smoke 💙 if you are l...</td>\n",
       "    </tr>\n",
       "    <tr>\n",
       "      <th>7</th>\n",
       "      <td>0</td>\n",
       "      <td>when your miss her but she far</td>\n",
       "    </tr>\n",
       "    <tr>\n",
       "      <th>9</th>\n",
       "      <td>1</td>\n",
       "      <td>twitter will make laugh and scare on the taiwa...</td>\n",
       "    </tr>\n",
       "  </tbody>\n",
       "</table>\n",
       "</div>"
      ],
      "text/plain": [
       "   score                                         clean_text\n",
       "0      1  airplan land safe in 🇹🇼 1 both 🇨🇳 amp 🇺🇸 are p...\n",
       "3      1                                         strong ✍️💜\n",
       "5      1  v382 intro logo anim blue smoke 💙 if you are l...\n",
       "7      0                     when your miss her but she far\n",
       "9      1  twitter will make laugh and scare on the taiwa..."
      ]
     },
     "execution_count": 12,
     "metadata": {},
     "output_type": "execute_result"
    }
   ],
   "source": [
    "cleanedTweet[['score','clean_text']][:5]"
   ]
  },
  {
   "cell_type": "code",
   "execution_count": 14,
   "metadata": {},
   "outputs": [
    {
     "data": {
      "text/html": [
       "<style>#sk-container-id-1 {color: black;background-color: white;}#sk-container-id-1 pre{padding: 0;}#sk-container-id-1 div.sk-toggleable {background-color: white;}#sk-container-id-1 label.sk-toggleable__label {cursor: pointer;display: block;width: 100%;margin-bottom: 0;padding: 0.3em;box-sizing: border-box;text-align: center;}#sk-container-id-1 label.sk-toggleable__label-arrow:before {content: \"▸\";float: left;margin-right: 0.25em;color: #696969;}#sk-container-id-1 label.sk-toggleable__label-arrow:hover:before {color: black;}#sk-container-id-1 div.sk-estimator:hover label.sk-toggleable__label-arrow:before {color: black;}#sk-container-id-1 div.sk-toggleable__content {max-height: 0;max-width: 0;overflow: hidden;text-align: left;background-color: #f0f8ff;}#sk-container-id-1 div.sk-toggleable__content pre {margin: 0.2em;color: black;border-radius: 0.25em;background-color: #f0f8ff;}#sk-container-id-1 input.sk-toggleable__control:checked~div.sk-toggleable__content {max-height: 200px;max-width: 100%;overflow: auto;}#sk-container-id-1 input.sk-toggleable__control:checked~label.sk-toggleable__label-arrow:before {content: \"▾\";}#sk-container-id-1 div.sk-estimator input.sk-toggleable__control:checked~label.sk-toggleable__label {background-color: #d4ebff;}#sk-container-id-1 div.sk-label input.sk-toggleable__control:checked~label.sk-toggleable__label {background-color: #d4ebff;}#sk-container-id-1 input.sk-hidden--visually {border: 0;clip: rect(1px 1px 1px 1px);clip: rect(1px, 1px, 1px, 1px);height: 1px;margin: -1px;overflow: hidden;padding: 0;position: absolute;width: 1px;}#sk-container-id-1 div.sk-estimator {font-family: monospace;background-color: #f0f8ff;border: 1px dotted black;border-radius: 0.25em;box-sizing: border-box;margin-bottom: 0.5em;}#sk-container-id-1 div.sk-estimator:hover {background-color: #d4ebff;}#sk-container-id-1 div.sk-parallel-item::after {content: \"\";width: 100%;border-bottom: 1px solid gray;flex-grow: 1;}#sk-container-id-1 div.sk-label:hover label.sk-toggleable__label {background-color: #d4ebff;}#sk-container-id-1 div.sk-serial::before {content: \"\";position: absolute;border-left: 1px solid gray;box-sizing: border-box;top: 0;bottom: 0;left: 50%;z-index: 0;}#sk-container-id-1 div.sk-serial {display: flex;flex-direction: column;align-items: center;background-color: white;padding-right: 0.2em;padding-left: 0.2em;position: relative;}#sk-container-id-1 div.sk-item {position: relative;z-index: 1;}#sk-container-id-1 div.sk-parallel {display: flex;align-items: stretch;justify-content: center;background-color: white;position: relative;}#sk-container-id-1 div.sk-item::before, #sk-container-id-1 div.sk-parallel-item::before {content: \"\";position: absolute;border-left: 1px solid gray;box-sizing: border-box;top: 0;bottom: 0;left: 50%;z-index: -1;}#sk-container-id-1 div.sk-parallel-item {display: flex;flex-direction: column;z-index: 1;position: relative;background-color: white;}#sk-container-id-1 div.sk-parallel-item:first-child::after {align-self: flex-end;width: 50%;}#sk-container-id-1 div.sk-parallel-item:last-child::after {align-self: flex-start;width: 50%;}#sk-container-id-1 div.sk-parallel-item:only-child::after {width: 0;}#sk-container-id-1 div.sk-dashed-wrapped {border: 1px dashed gray;margin: 0 0.4em 0.5em 0.4em;box-sizing: border-box;padding-bottom: 0.4em;background-color: white;}#sk-container-id-1 div.sk-label label {font-family: monospace;font-weight: bold;display: inline-block;line-height: 1.2em;}#sk-container-id-1 div.sk-label-container {text-align: center;}#sk-container-id-1 div.sk-container {/* jupyter's `normalize.less` sets `[hidden] { display: none; }` but bootstrap.min.css set `[hidden] { display: none !important; }` so we also need the `!important` here to be able to override the default hidden behavior on the sphinx rendered scikit-learn.org. See: https://github.com/scikit-learn/scikit-learn/issues/21755 */display: inline-block !important;position: relative;}#sk-container-id-1 div.sk-text-repr-fallback {display: none;}</style><div id=\"sk-container-id-1\" class=\"sk-top-container\"><div class=\"sk-text-repr-fallback\"><pre>CountVectorizer(ngram_range=(3, 3))</pre><b>In a Jupyter environment, please rerun this cell to show the HTML representation or trust the notebook. <br />On GitHub, the HTML representation is unable to render, please try loading this page with nbviewer.org.</b></div><div class=\"sk-container\" hidden><div class=\"sk-item\"><div class=\"sk-estimator sk-toggleable\"><input class=\"sk-toggleable__control sk-hidden--visually\" id=\"sk-estimator-id-1\" type=\"checkbox\" checked><label for=\"sk-estimator-id-1\" class=\"sk-toggleable__label sk-toggleable__label-arrow\">CountVectorizer</label><div class=\"sk-toggleable__content\"><pre>CountVectorizer(ngram_range=(3, 3))</pre></div></div></div></div></div>"
      ],
      "text/plain": [
       "CountVectorizer(ngram_range=(3, 3))"
      ]
     },
     "execution_count": 14,
     "metadata": {},
     "output_type": "execute_result"
    }
   ],
   "source": [
    "(X, y) = cleanedTweet['clean_text'], cleanedTweet['score']\n",
    "trigram_vectorizer = CountVectorizer(ngram_range=(3, 3))\n",
    "trigram_vectorizer.fit(X.values)"
   ]
  },
  {
   "cell_type": "code",
   "execution_count": 15,
   "metadata": {},
   "outputs": [],
   "source": [
    "X_trigram = trigram_vectorizer.transform(X.values)"
   ]
  },
  {
   "cell_type": "code",
   "execution_count": 16,
   "metadata": {},
   "outputs": [
    {
     "data": {
      "text/html": [
       "<style>#sk-container-id-2 {color: black;background-color: white;}#sk-container-id-2 pre{padding: 0;}#sk-container-id-2 div.sk-toggleable {background-color: white;}#sk-container-id-2 label.sk-toggleable__label {cursor: pointer;display: block;width: 100%;margin-bottom: 0;padding: 0.3em;box-sizing: border-box;text-align: center;}#sk-container-id-2 label.sk-toggleable__label-arrow:before {content: \"▸\";float: left;margin-right: 0.25em;color: #696969;}#sk-container-id-2 label.sk-toggleable__label-arrow:hover:before {color: black;}#sk-container-id-2 div.sk-estimator:hover label.sk-toggleable__label-arrow:before {color: black;}#sk-container-id-2 div.sk-toggleable__content {max-height: 0;max-width: 0;overflow: hidden;text-align: left;background-color: #f0f8ff;}#sk-container-id-2 div.sk-toggleable__content pre {margin: 0.2em;color: black;border-radius: 0.25em;background-color: #f0f8ff;}#sk-container-id-2 input.sk-toggleable__control:checked~div.sk-toggleable__content {max-height: 200px;max-width: 100%;overflow: auto;}#sk-container-id-2 input.sk-toggleable__control:checked~label.sk-toggleable__label-arrow:before {content: \"▾\";}#sk-container-id-2 div.sk-estimator input.sk-toggleable__control:checked~label.sk-toggleable__label {background-color: #d4ebff;}#sk-container-id-2 div.sk-label input.sk-toggleable__control:checked~label.sk-toggleable__label {background-color: #d4ebff;}#sk-container-id-2 input.sk-hidden--visually {border: 0;clip: rect(1px 1px 1px 1px);clip: rect(1px, 1px, 1px, 1px);height: 1px;margin: -1px;overflow: hidden;padding: 0;position: absolute;width: 1px;}#sk-container-id-2 div.sk-estimator {font-family: monospace;background-color: #f0f8ff;border: 1px dotted black;border-radius: 0.25em;box-sizing: border-box;margin-bottom: 0.5em;}#sk-container-id-2 div.sk-estimator:hover {background-color: #d4ebff;}#sk-container-id-2 div.sk-parallel-item::after {content: \"\";width: 100%;border-bottom: 1px solid gray;flex-grow: 1;}#sk-container-id-2 div.sk-label:hover label.sk-toggleable__label {background-color: #d4ebff;}#sk-container-id-2 div.sk-serial::before {content: \"\";position: absolute;border-left: 1px solid gray;box-sizing: border-box;top: 0;bottom: 0;left: 50%;z-index: 0;}#sk-container-id-2 div.sk-serial {display: flex;flex-direction: column;align-items: center;background-color: white;padding-right: 0.2em;padding-left: 0.2em;position: relative;}#sk-container-id-2 div.sk-item {position: relative;z-index: 1;}#sk-container-id-2 div.sk-parallel {display: flex;align-items: stretch;justify-content: center;background-color: white;position: relative;}#sk-container-id-2 div.sk-item::before, #sk-container-id-2 div.sk-parallel-item::before {content: \"\";position: absolute;border-left: 1px solid gray;box-sizing: border-box;top: 0;bottom: 0;left: 50%;z-index: -1;}#sk-container-id-2 div.sk-parallel-item {display: flex;flex-direction: column;z-index: 1;position: relative;background-color: white;}#sk-container-id-2 div.sk-parallel-item:first-child::after {align-self: flex-end;width: 50%;}#sk-container-id-2 div.sk-parallel-item:last-child::after {align-self: flex-start;width: 50%;}#sk-container-id-2 div.sk-parallel-item:only-child::after {width: 0;}#sk-container-id-2 div.sk-dashed-wrapped {border: 1px dashed gray;margin: 0 0.4em 0.5em 0.4em;box-sizing: border-box;padding-bottom: 0.4em;background-color: white;}#sk-container-id-2 div.sk-label label {font-family: monospace;font-weight: bold;display: inline-block;line-height: 1.2em;}#sk-container-id-2 div.sk-label-container {text-align: center;}#sk-container-id-2 div.sk-container {/* jupyter's `normalize.less` sets `[hidden] { display: none; }` but bootstrap.min.css set `[hidden] { display: none !important; }` so we also need the `!important` here to be able to override the default hidden behavior on the sphinx rendered scikit-learn.org. See: https://github.com/scikit-learn/scikit-learn/issues/21755 */display: inline-block !important;position: relative;}#sk-container-id-2 div.sk-text-repr-fallback {display: none;}</style><div id=\"sk-container-id-2\" class=\"sk-top-container\"><div class=\"sk-text-repr-fallback\"><pre>TfidfTransformer()</pre><b>In a Jupyter environment, please rerun this cell to show the HTML representation or trust the notebook. <br />On GitHub, the HTML representation is unable to render, please try loading this page with nbviewer.org.</b></div><div class=\"sk-container\" hidden><div class=\"sk-item\"><div class=\"sk-estimator sk-toggleable\"><input class=\"sk-toggleable__control sk-hidden--visually\" id=\"sk-estimator-id-2\" type=\"checkbox\" checked><label for=\"sk-estimator-id-2\" class=\"sk-toggleable__label sk-toggleable__label-arrow\">TfidfTransformer</label><div class=\"sk-toggleable__content\"><pre>TfidfTransformer()</pre></div></div></div></div></div>"
      ],
      "text/plain": [
       "TfidfTransformer()"
      ]
     },
     "execution_count": 16,
     "metadata": {},
     "output_type": "execute_result"
    }
   ],
   "source": [
    "trigram_tf_idf_transformer = TfidfTransformer()\n",
    "trigram_tf_idf_transformer.fit(X_trigram)"
   ]
  },
  {
   "cell_type": "code",
   "execution_count": 17,
   "metadata": {},
   "outputs": [],
   "source": [
    "X_train_tf_idf = trigram_tf_idf_transformer.transform(X_trigram)"
   ]
  },
  {
   "cell_type": "markdown",
   "metadata": {},
   "source": [
    "### Training"
   ]
  },
  {
   "cell_type": "code",
   "execution_count": 20,
   "metadata": {},
   "outputs": [],
   "source": [
    "# we are going to use 80/20 train to validation split\n",
    "def train_and_show_scores(X, y, title: str) -> None:\n",
    "    X_train, X_valid, y_train, y_valid = train_test_split(\n",
    "        X, y, train_size=0.75, stratify=y\n",
    "    )\n",
    "\n",
    "    clf = SGDClassifier()\n",
    "    clf.fit(X_train, y_train)\n",
    "    train_score = clf.score(X_train, y_train)\n",
    "    valid_score = clf.score(X_valid, y_valid)\n",
    "    print(f'{title}\\nTrain score: {round(train_score, 2)} ; Validation score: {round(valid_score, 2)}\\n')"
   ]
  },
  {
   "cell_type": "code",
   "execution_count": 22,
   "metadata": {},
   "outputs": [
    {
     "name": "stdout",
     "output_type": "stream",
     "text": [
      "trigram\n",
      "Train score: 1.0 ; Validation score: 0.97\n",
      "\n"
     ]
    }
   ],
   "source": [
    "train_and_show_scores(X_trigram, y, title=\"trigram\")"
   ]
  },
  {
   "cell_type": "code",
   "execution_count": 23,
   "metadata": {},
   "outputs": [
    {
     "name": "stdout",
     "output_type": "stream",
     "text": [
      "trigram_tf_idf\n",
      "Train score: 1.0 ; Validation score: 0.97\n",
      "\n"
     ]
    }
   ],
   "source": [
    "train_and_show_scores(X_train_tf_idf, y, title=\"trigram_tf_idf\")"
   ]
  },
  {
   "cell_type": "markdown",
   "metadata": {},
   "source": [
    "We have compared the two vectorizers and find same result"
   ]
  },
  {
   "cell_type": "markdown",
   "metadata": {},
   "source": [
    "## Topic Modeling"
   ]
  },
  {
   "cell_type": "code",
   "execution_count": 24,
   "metadata": {},
   "outputs": [],
   "source": [
    "import warnings\n",
    "warnings.filterwarnings('ignore')\n",
    "import matplotlib.pyplot as plt\n",
    "import seaborn as sns\n",
    "from wordcloud import STOPWORDS,WordCloud\n",
    "import gensim\n",
    "from gensim.models import CoherenceModel\n",
    "from gensim import corpora\n",
    "import pandas as pd\n",
    "from pprint import pprint\n",
    "import string\n",
    "import os\n",
    "import re"
   ]
  },
  {
   "cell_type": "code",
   "execution_count": 25,
   "metadata": {},
   "outputs": [],
   "source": [
    "\n",
    "class LoadData:\n",
    "  def __init__(self,dir_name,file_name):\n",
    "    self.dir_name=dir_name\n",
    "    self.file_name = file_name\n",
    "    \n",
    " \n",
    "  def read_csv(self):\n",
    "    os.chdir(self.dir_name)\n",
    "    tweets_df=pd.read_csv(self.file_name)\n",
    "    return tweets_df"
   ]
  },
  {
   "cell_type": "code",
   "execution_count": 29,
   "metadata": {},
   "outputs": [
    {
     "data": {
      "text/html": [
       "<div>\n",
       "<style scoped>\n",
       "    .dataframe tbody tr th:only-of-type {\n",
       "        vertical-align: middle;\n",
       "    }\n",
       "\n",
       "    .dataframe tbody tr th {\n",
       "        vertical-align: top;\n",
       "    }\n",
       "\n",
       "    .dataframe thead th {\n",
       "        text-align: right;\n",
       "    }\n",
       "</style>\n",
       "<table border=\"1\" class=\"dataframe\">\n",
       "  <thead>\n",
       "    <tr style=\"text-align: right;\">\n",
       "      <th></th>\n",
       "      <th>created_at</th>\n",
       "      <th>source</th>\n",
       "      <th>original_text</th>\n",
       "      <th>polarity</th>\n",
       "      <th>subjectivity</th>\n",
       "      <th>lang</th>\n",
       "      <th>favorite_count</th>\n",
       "      <th>retweet_count</th>\n",
       "      <th>original_author</th>\n",
       "      <th>followers_count</th>\n",
       "      <th>friends_count</th>\n",
       "      <th>possibly_sensitive</th>\n",
       "      <th>hashtags</th>\n",
       "      <th>user_mentions</th>\n",
       "      <th>place</th>\n",
       "      <th>clean_text</th>\n",
       "    </tr>\n",
       "  </thead>\n",
       "  <tbody>\n",
       "    <tr>\n",
       "      <th>2</th>\n",
       "      <td>2022-08-02 15:02:35+00:00</td>\n",
       "      <td>&lt;a href=\"http://twitter.com/download/android\" ...</td>\n",
       "      <td>#Pelosi \\r\\n#Taipei \\r\\n#taiwan\\r\\n#XiJinping ...</td>\n",
       "      <td>0.000000</td>\n",
       "      <td>0.000000</td>\n",
       "      <td>en</td>\n",
       "      <td>2</td>\n",
       "      <td>0</td>\n",
       "      <td>NassimaLilEmy</td>\n",
       "      <td>64</td>\n",
       "      <td>47</td>\n",
       "      <td>False</td>\n",
       "      <td>['Pelosi', 'Taipei', 'taiwan', 'XiJinping', 'C...</td>\n",
       "      <td>Peter Obi</td>\n",
       "      <td>Algérie</td>\n",
       "      <td>\\r\\n \\r\\n\\r\\n \\r\\n \\r\\non a verge of another ...</td>\n",
       "    </tr>\n",
       "    <tr>\n",
       "      <th>3</th>\n",
       "      <td>2022-08-01 13:51:42+00:00</td>\n",
       "      <td>&lt;a href=\"http://twitter.com/download/android\" ...</td>\n",
       "      <td>#HOBIPALOOZA #LaAcademiaExpulsion #WEURO2022 #...</td>\n",
       "      <td>0.433333</td>\n",
       "      <td>0.733333</td>\n",
       "      <td>en</td>\n",
       "      <td>0</td>\n",
       "      <td>0</td>\n",
       "      <td>d_dhayae</td>\n",
       "      <td>60</td>\n",
       "      <td>463</td>\n",
       "      <td>False</td>\n",
       "      <td>['HOBIPALOOZA', 'LaAcademiaExpulsion', 'WEURO2...</td>\n",
       "      <td>BBC News (World)</td>\n",
       "      <td>Chlef</td>\n",
       "      <td>strong ✍️💜</td>\n",
       "    </tr>\n",
       "    <tr>\n",
       "      <th>4</th>\n",
       "      <td>2022-07-31 20:02:20+00:00</td>\n",
       "      <td>&lt;a href=\"http://twitter.com/download/android\" ...</td>\n",
       "      <td>#Pelosi\\r\\n#china\\r\\nChina Time ✌️ https://t.c...</td>\n",
       "      <td>0.000000</td>\n",
       "      <td>0.000000</td>\n",
       "      <td>en</td>\n",
       "      <td>2</td>\n",
       "      <td>0</td>\n",
       "      <td>Mohamme65404115</td>\n",
       "      <td>39</td>\n",
       "      <td>206</td>\n",
       "      <td>False</td>\n",
       "      <td>['Pelosi', 'china']</td>\n",
       "      <td>Nancy Pelosi</td>\n",
       "      <td>Algérie</td>\n",
       "      <td>\\r\\n\\r\\nchina time ✌️</td>\n",
       "    </tr>\n",
       "    <tr>\n",
       "      <th>5</th>\n",
       "      <td>2022-07-31 13:22:22+00:00</td>\n",
       "      <td>&lt;a href=\"http://twitter.com/download/android\" ...</td>\n",
       "      <td>V382 Intro Logo Animation Blue Smoke 💙\\r\\n\\r\\n...</td>\n",
       "      <td>0.169841</td>\n",
       "      <td>0.350397</td>\n",
       "      <td>en</td>\n",
       "      <td>1</td>\n",
       "      <td>1</td>\n",
       "      <td>Yacine_Kelala8</td>\n",
       "      <td>350</td>\n",
       "      <td>1</td>\n",
       "      <td>False</td>\n",
       "      <td>['YK', 'Taiwan']</td>\n",
       "      <td>AsabariConsultativeCouncil</td>\n",
       "      <td>États-Unis</td>\n",
       "      <td>v382 intro logo animation blue smoke 💙\\r\\n\\r\\n...</td>\n",
       "    </tr>\n",
       "    <tr>\n",
       "      <th>6</th>\n",
       "      <td>2022-08-07 05:55:54+00:00</td>\n",
       "      <td>&lt;a href=\"http://twitter.com/download/android\" ...</td>\n",
       "      <td>TWINNING FOR \"AFRO IN SPACE\"🛰️\\r\\n\"SENORITA\" C...</td>\n",
       "      <td>0.000000</td>\n",
       "      <td>0.000000</td>\n",
       "      <td>en</td>\n",
       "      <td>0</td>\n",
       "      <td>0</td>\n",
       "      <td>drax_africa</td>\n",
       "      <td>559</td>\n",
       "      <td>1280</td>\n",
       "      <td>False</td>\n",
       "      <td>['fashion', 'Twins', 'models', 'RETWEEET', 'PR...</td>\n",
       "      <td>IBEDC</td>\n",
       "      <td>Zambia</td>\n",
       "      <td>twinning for afro in space🛰️\\r\\nsenorita count...</td>\n",
       "    </tr>\n",
       "  </tbody>\n",
       "</table>\n",
       "</div>"
      ],
      "text/plain": [
       "                  created_at  \\\n",
       "2  2022-08-02 15:02:35+00:00   \n",
       "3  2022-08-01 13:51:42+00:00   \n",
       "4  2022-07-31 20:02:20+00:00   \n",
       "5  2022-07-31 13:22:22+00:00   \n",
       "6  2022-08-07 05:55:54+00:00   \n",
       "\n",
       "                                              source  \\\n",
       "2  <a href=\"http://twitter.com/download/android\" ...   \n",
       "3  <a href=\"http://twitter.com/download/android\" ...   \n",
       "4  <a href=\"http://twitter.com/download/android\" ...   \n",
       "5  <a href=\"http://twitter.com/download/android\" ...   \n",
       "6  <a href=\"http://twitter.com/download/android\" ...   \n",
       "\n",
       "                                       original_text  polarity  subjectivity  \\\n",
       "2  #Pelosi \\r\\n#Taipei \\r\\n#taiwan\\r\\n#XiJinping ...  0.000000      0.000000   \n",
       "3  #HOBIPALOOZA #LaAcademiaExpulsion #WEURO2022 #...  0.433333      0.733333   \n",
       "4  #Pelosi\\r\\n#china\\r\\nChina Time ✌️ https://t.c...  0.000000      0.000000   \n",
       "5  V382 Intro Logo Animation Blue Smoke 💙\\r\\n\\r\\n...  0.169841      0.350397   \n",
       "6  TWINNING FOR \"AFRO IN SPACE\"🛰️\\r\\n\"SENORITA\" C...  0.000000      0.000000   \n",
       "\n",
       "  lang  favorite_count  retweet_count  original_author  followers_count  \\\n",
       "2   en               2              0    NassimaLilEmy               64   \n",
       "3   en               0              0         d_dhayae               60   \n",
       "4   en               2              0  Mohamme65404115               39   \n",
       "5   en               1              1   Yacine_Kelala8              350   \n",
       "6   en               0              0      drax_africa              559   \n",
       "\n",
       "   friends_count possibly_sensitive  \\\n",
       "2             47              False   \n",
       "3            463              False   \n",
       "4            206              False   \n",
       "5              1              False   \n",
       "6           1280              False   \n",
       "\n",
       "                                            hashtags  \\\n",
       "2  ['Pelosi', 'Taipei', 'taiwan', 'XiJinping', 'C...   \n",
       "3  ['HOBIPALOOZA', 'LaAcademiaExpulsion', 'WEURO2...   \n",
       "4                                ['Pelosi', 'china']   \n",
       "5                                   ['YK', 'Taiwan']   \n",
       "6  ['fashion', 'Twins', 'models', 'RETWEEET', 'PR...   \n",
       "\n",
       "                user_mentions                           place  \\\n",
       "2                   Peter Obi                         Algérie   \n",
       "3            BBC News (World)  Chlef                            \n",
       "4                Nancy Pelosi                         Algérie   \n",
       "5  AsabariConsultativeCouncil                      États-Unis   \n",
       "6                       IBEDC                          Zambia   \n",
       "\n",
       "                                          clean_text  \n",
       "2   \\r\\n \\r\\n\\r\\n \\r\\n \\r\\non a verge of another ...  \n",
       "3                                        strong ✍️💜   \n",
       "4                             \\r\\n\\r\\nchina time ✌️   \n",
       "5  v382 intro logo animation blue smoke 💙\\r\\n\\r\\n...  \n",
       "6  twinning for afro in space🛰️\\r\\nsenorita count...  "
      ]
     },
     "execution_count": 29,
     "metadata": {},
     "output_type": "execute_result"
    }
   ],
   "source": [
    "DataLoader_obj= LoadData('../data/','cleaned_tweet_data.csv')\n",
    "tweets_df = DataLoader_obj.read_csv()\n",
    "tweets_df=tweets_df.dropna()\n",
    "tweets_df.head()"
   ]
  },
  {
   "cell_type": "code",
   "execution_count": 30,
   "metadata": {},
   "outputs": [],
   "source": [
    "class PrepareData:\n",
    "  def __init__(self,df):\n",
    "    self.df=df\n",
    "    \n",
    "  def preprocess_data(self):\n",
    "    tweets_df = self.df.loc[self.df['lang'] ==\"en\"]\n",
    "\n",
    "    \n",
    "    #text Preprocessing\n",
    "    tweets_df['clean_text']=tweets_df['clean_text'].astype(str)\n",
    "    tweets_df['clean_text'] = tweets_df['clean_text'].apply(lambda x: x.lower())\n",
    "    tweets_df['clean_text']= tweets_df['clean_text'].apply(lambda x: x.translate(str.maketrans(' ', ' ', string.punctuation)))\n",
    "    \n",
    "    #Converting tweets to list of words For feature engineering\n",
    "    sentence_list = [tweet for tweet in tweets_df['clean_text']]\n",
    "    word_list = [sent.split() for sent in sentence_list]\n",
    "\n",
    "    #Create dictionary which contains Id and word \n",
    "    word_to_id = corpora.Dictionary(word_list)\n",
    "    corpus_1= [word_to_id.doc2bow(tweet) for tweet in word_list]\n",
    "\n",
    "\n",
    "\n",
    "    \n",
    "    return word_list, word_to_id, corpus_1"
   ]
  },
  {
   "cell_type": "code",
   "execution_count": 31,
   "metadata": {},
   "outputs": [],
   "source": [
    "PrepareData_obj=PrepareData(tweets_df)\n",
    "word_list ,id2word,corpus=PrepareData_obj.preprocess_data()"
   ]
  },
  {
   "cell_type": "markdown",
   "metadata": {},
   "source": [
    "### LDA Model\n",
    "- explains a set of observations"
   ]
  },
  {
   "cell_type": "code",
   "execution_count": 32,
   "metadata": {},
   "outputs": [],
   "source": [
    "lda_model = gensim.models.ldamodel.LdaModel(corpus,\n",
    "                                           id2word=id2word,\n",
    "                                           num_topics=5, \n",
    "                                           random_state=100,\n",
    "                                           update_every=1,\n",
    "                                           chunksize=100,\n",
    "                                           passes=10,\n",
    "                                           alpha='auto',\n",
    "                                           per_word_topics=True)"
   ]
  },
  {
   "cell_type": "code",
   "execution_count": 33,
   "metadata": {},
   "outputs": [
    {
     "name": "stdout",
     "output_type": "stream",
     "text": [
      "[(0,\n",
      "  [('the', 0.033204746),\n",
      "   ('to', 0.030932011),\n",
      "   ('and', 0.021131162),\n",
      "   ('of', 0.020700047),\n",
      "   ('is', 0.01802803),\n",
      "   ('a', 0.014866325),\n",
      "   ('in', 0.014638147),\n",
      "   ('all', 0.014048817),\n",
      "   ('it', 0.011071385),\n",
      "   ('from', 0.010481984)]),\n",
      " (1,\n",
      "  [('the', 0.054173373),\n",
      "   ('of', 0.036722384),\n",
      "   ('in', 0.034282733),\n",
      "   ('to', 0.028354002),\n",
      "   ('a', 0.026068024),\n",
      "   ('and', 0.024069719),\n",
      "   ('taiwan', 0.01603261),\n",
      "   ('i', 0.013578276),\n",
      "   ('my', 0.013406155),\n",
      "   ('china', 0.010475515)]),\n",
      " (2,\n",
      "  [('for', 0.018958846),\n",
      "   ('your', 0.0144656),\n",
      "   ('this', 0.01430711),\n",
      "   ('a', 0.013722172),\n",
      "   ('me', 0.013582545),\n",
      "   ('how', 0.009692196),\n",
      "   ('ไต้หวัน', 0.009217256),\n",
      "   ('with', 0.008462897),\n",
      "   ('and', 0.008378999),\n",
      "   ('or', 0.007799441)]),\n",
      " (3,\n",
      "  [('you', 0.081694596),\n",
      "   ('for', 0.07086312),\n",
      "   ('to', 0.06669416),\n",
      "   ('we', 0.05915757),\n",
      "   ('is', 0.056662574),\n",
      "   ('are', 0.054327007),\n",
      "   ('where', 0.044013936),\n",
      "   ('waiting', 0.043477938),\n",
      "   ('🇨🇳', 0.04271458),\n",
      "   ('the', 0.041455287)]),\n",
      " (4,\n",
      "  [('war', 0.024242856),\n",
      "   ('world', 0.02256042),\n",
      "   ('iii', 0.01549374),\n",
      "   ('please', 0.014260663),\n",
      "   ('dont', 0.013140849),\n",
      "   ('obituary', 0.011856694),\n",
      "   ('•', 0.011760214),\n",
      "   ('nigeria', 0.01149008),\n",
      "   ('peter', 0.010784993),\n",
      "   ('obi', 0.0106581785)])]\n"
     ]
    }
   ],
   "source": [
    "pprint(lda_model.show_topics(formatted=False))"
   ]
  },
  {
   "cell_type": "code",
   "execution_count": 34,
   "metadata": {},
   "outputs": [
    {
     "name": "stdout",
     "output_type": "stream",
     "text": [
      "\n",
      "Perplexity:  -6.971519918448742\n",
      "\n",
      " Ldamodel Coherence Score/Accuracy on Tweets:  0.4595807402587189\n"
     ]
    }
   ],
   "source": [
    "# Compute Perplexity\n",
    "\n",
    "#It's a measure of how good the model is. The lower the better. Perplexity is a negative value\n",
    "print('\\nPerplexity: ', lda_model.log_perplexity(corpus))  \n",
    "doc_lda = lda_model[corpus]\n",
    "\n",
    "\n",
    "# Compute Coherence Score\n",
    "coherence_model_lda = CoherenceModel(model=lda_model, texts=word_list, dictionary=id2word, coherence='c_v')\n",
    "coherence_lda = coherence_model_lda.get_coherence()\n",
    "print('\\n Ldamodel Coherence Score/Accuracy on Tweets: ', coherence_lda)"
   ]
  },
  {
   "cell_type": "code",
   "execution_count": 35,
   "metadata": {},
   "outputs": [
    {
     "name": "stderr",
     "output_type": "stream",
     "text": [
      "c:\\Users\\Natnael\\AppData\\Local\\Programs\\Python\\Python310\\lib\\site-packages\\past\\builtins\\misc.py:45: DeprecationWarning: the imp module is deprecated in favour of importlib and slated for removal in Python 3.12; see the module's documentation for alternative uses\n",
      "  from imp import reload\n"
     ]
    }
   ],
   "source": [
    "import pyLDAvis.gensim_models as gensimvis\n",
    "import pickle \n",
    "import pyLDAvis\n"
   ]
  },
  {
   "cell_type": "code",
   "execution_count": 36,
   "metadata": {},
   "outputs": [
    {
     "data": {
      "text/html": [
       "\n",
       "<link rel=\"stylesheet\" type=\"text/css\" href=\"https://cdn.jsdelivr.net/gh/bmabey/pyLDAvis@3.3.1/pyLDAvis/js/ldavis.v1.0.0.css\">\n",
       "\n",
       "\n",
       "<div id=\"ldavis_el890023632137902565816091328\"></div>\n",
       "<script type=\"text/javascript\">\n",
       "\n",
       "var ldavis_el890023632137902565816091328_data = {\"mdsDat\": {\"x\": [-0.07429367197285784, -0.19674956492776788, -0.08650663543064466, -0.019179824498070368, 0.3767296968293405], \"y\": [0.1750794179253548, -0.030500252140770654, 0.14902190793199852, -0.3296359441388738, 0.03603487042229129], \"topics\": [1, 2, 3, 4, 5], \"cluster\": [1, 1, 1, 1, 1], \"Freq\": [29.912179663184464, 24.61830529112885, 18.75909164489411, 13.953572950477739, 12.756850450314838]}, \"tinfo\": {\"Term\": [\"you\", \"we\", \"for\", \"are\", \"where\", \"waiting\", \"\\ud83c\\udde8\\ud83c\\uddf3\", \"of\", \"to\", \"in\", \"is\", \"the\", \"welcome\", \"war\", \"world\", \"a\", \"\\u2026\\u2026come\", \"my\", \"taiwan\", \"all\", \"on\", \"iii\", \"i\", \"please\", \"me\", \"dont\", \"meeting\", \"pelosi\", \"82\", \"your\", \"my\", \"pelosi\", \"its\", \"visit\", \"new\", \"what\", \"military\", \"an\", \"speaker\", \"she\", \"people\", \"good\", \"drills\", \"before\", \"these\", \"air\", \"said\", \"month\", \"happy\", \"best\", \"late\", \"support\", \"would\", \"join\", \"trip\", \"take\", \"foreign\", \"near\", \"country\", \"there\", \"have\", \"taiwan\", \"nancy\", \"i\", \"will\", \"in\", \"china\", \"of\", \"as\", \"a\", \"the\", \"so\", \"be\", \"and\", \"by\", \"us\", \"not\", \"was\", \"to\", \"just\", \"one\", \"with\", \"that\", \"on\", \"this\", \"is\", \"you\", \"we\", \"where\", \"waiting\", \"\\ud83c\\udde8\\ud83c\\uddf3\", \"welcome\", \"\\u2026\\u2026come\", \"meeting\", \"82\", \"link\", \"need\", \"too\", \"check\", \"then\", \"soon\", \"click\", \"live\", \"first\", \"books\", \"below\", \"1\", \"thank\", \"im\", \"store\", \"stop\", \"never\", \"very\", \"child\", \"website\", \"youtube\", \"are\", \"for\", \"is\", \"do\", \"on\", \"to\", \"the\", \"now\", \"our\", \"your\", \"out\", \"me\", \"it\", \"this\", \"order\", \"all\", \"asuu\", \"go\", \"time\", \"watch\", \"their\", \"come\", \"love\", \"state\", \"start\", \"man\", \"big\", \"exercises\", \"why\", \"\\ud83d\\udc47\", \"way\", \"even\", \"president\", \"obidients\", \"police\", \"name\", \"government\", \"fujian\", \"life\", \"must\", \"2023\", \"fire\", \"things\", \"both\", \"prepare\", \"mbaka\", \"from\", \"it\", \"and\", \"of\", \"the\", \"to\", \"that\", \"a\", \"in\", \"is\", \"with\", \"amp\", \"be\", \"chinese\", \"on\", \"nigeria\", \"our\", \"are\", \"how\", \"\\u0e44\\u0e15\\u0e49\\u0e2b\\u0e27\\u0e31\\u0e19\", \"nationwide\", \"help\", \"\\u0627\\u0644\\u062d\\u0631\\u0628\\u0627\\u0644\\u0639\\u0627\\u0644\\u0645\\u064a\\u0629\\u0627\\u0644\\u062b\\u0627\\u0644\\u062b\\u0629\", \"got\", \"read\", \"place\", \"kindly\", \"\\u0e21\\u0e32\\u0e01\\u0e2d\\u0e14\\u0e01\\u0e31\\u0e19\\u0e19\\u0e30\\u0e0b\\u0e35\\u0e1e\\u0e24\\u0e01\\u0e29\\u0e4c\", \"\\u260e\\ufe0f\", \"want\", \"quality\", \"price\", \"whatsapp\", \"talking\", \"location\", \"lekki\", \"send\", \"job\", \"year\", \"contact\", \"vs\", \"better\", \"covered\", \"\\u0627\\u0644\\u0642\\u0628\\u0648\\u0644\\u0627\\u0644\\u0645\\u0648\\u062d\\u062f\\u0644\\u0644\\u0637\\u0627\\u0644\\u0628\\u0627\\u062a\", \"14\", \"bedroom\", \"o\", \"\\ud83d\\udd25\", \"party\", \"\\u062a\\u0627\\u064a\\u0648\\u0627\\u0646\", \"me\", \"or\", \"iphone\", \"your\", \"like\", \"dm\", \"this\", \"no\", \"for\", \"a\", \"about\", \"more\", \"with\", \"order\", \"and\", \"make\", \"war\", \"world\", \"iii\", \"please\", \"dont\", \"\\u2022\", \"obituary\", \"her\", \"look\", \"onitsha\", \"another\", \"god\", \"mr\", \"omo\", \"agege\", \"sam\", \"his\", \"omatseye\", \"balogun\", \"renato\", \"sanches\", \"plane\", \"funny\", \"tv\", \"broke\", \"breaking\", \"against\", \"though\", \"truth\", \"hundeyin\", \"peter\", \"obi\", \"nigeria\", \"up\", \"retweet\", \"but\", \"is\", \"and\"], \"Freq\": [4624.0, 3348.0, 4619.0, 3263.0, 2491.0, 2461.0, 2418.0, 3418.0, 7181.0, 2989.0, 4828.0, 7580.0, 1115.0, 711.0, 662.0, 2874.0, 929.0, 922.0, 1218.0, 606.0, 2730.0, 455.0, 1049.0, 419.0, 652.0, 386.0, 562.0, 648.0, 548.0, 1080.0, 921.8396095009806, 647.8191442788842, 585.0865288041011, 497.10118341957815, 500.6644646294172, 410.7592002874439, 381.14662772849726, 343.4565308900107, 297.6086996821175, 274.6660203605414, 238.56744540099268, 235.77352464395784, 221.20916544392108, 222.42773441997528, 218.45461327191268, 204.91338900261994, 208.19316516827504, 196.29680809118085, 196.57176379644477, 195.7583918592007, 185.26940966430823, 182.3847922687314, 185.52901178151183, 165.78304875608407, 156.0971120497402, 157.01986429316588, 157.486715834187, 151.64634862201973, 151.3182557334688, 147.69434466128934, 637.0002920856653, 1102.4410320850109, 471.09857722457264, 933.6750965657648, 639.8843331213149, 2357.363590346531, 720.3217649593904, 2525.119935393322, 616.4610016404611, 1792.500378667552, 3725.092082036908, 286.2554337564128, 627.3850075003957, 1655.0920734667934, 562.0342450363717, 699.8131496703111, 378.2177266785149, 337.65136966339577, 1949.6897408093046, 315.6603566415925, 382.672988915667, 547.3213130551046, 414.24031818766287, 671.3285455088644, 505.54809037245275, 535.1915942474917, 4623.326426186795, 3347.8928460508637, 2490.8721621091295, 2460.538503151139, 2417.3380060431136, 1114.3206580440442, 928.3054465906049, 561.8148625536196, 547.5229552997663, 259.32631505820234, 236.8156203284605, 229.97644289499405, 175.1916065829811, 172.9342808890356, 158.68293102387182, 149.7166121070683, 164.91604034487395, 145.3938770175085, 134.08569172910114, 128.33028467241076, 132.8878915791868, 115.0916177532303, 113.67403292386763, 97.72443793723991, 100.95340824478615, 128.31187704668, 101.38306884595228, 101.5467939379478, 93.10537565007137, 89.05930177286388, 3074.517809952471, 4010.342844125065, 3206.6941025140554, 356.64994901585834, 1661.7475827236774, 3774.4098411208347, 2346.0710580756945, 324.5914546796215, 332.41626362340537, 444.6599304745611, 242.6235490717385, 216.6763996546583, 224.78346325182721, 233.41354323276965, 176.52043424203418, 605.8353728957569, 353.3794352522122, 335.7066621590939, 262.49486395125473, 241.83996414371606, 230.55276363095035, 219.68429182259925, 208.27106304641006, 192.96945269150774, 195.18868269532888, 182.53105534423705, 176.4425809406452, 173.47356710959247, 163.6117149298092, 155.06388210078728, 149.91680428567415, 139.62983764816704, 138.3232583024405, 143.61781087322316, 132.27750619496615, 142.2865620371181, 124.77709755653828, 117.28214090560553, 120.36476291070514, 114.75866389427502, 112.14090665719988, 112.14092673818513, 109.48077854124911, 110.22374487398864, 105.29221635453953, 122.84992540218035, 452.0207690492878, 477.4378343466845, 911.2514953663602, 892.660278250903, 1431.9077466521098, 1333.8992851861456, 335.2566071176907, 641.0892694653165, 631.2494260453662, 777.4333358211112, 345.8493870795566, 211.3457229408584, 249.1380769367443, 208.7863612088877, 304.671760509389, 200.13806321066443, 178.04877862678123, 187.93334240088123, 310.89281417987456, 295.65834585154255, 230.4715697827788, 231.8782613361748, 231.28579169990385, 192.23246068876648, 181.25270554543064, 161.21649225372985, 159.06956093645343, 150.99711173043713, 148.81082184788718, 141.0053088543957, 128.73405504395961, 129.23057043988254, 117.23794091685802, 118.48231386348847, 116.27933953410343, 106.07543357385559, 104.14489221298047, 104.1414940825821, 96.01789367854711, 94.48353698003051, 91.13256964421515, 88.70787290764981, 86.21299544283492, 85.61982377522892, 87.00428184687556, 82.80233303828498, 82.53742076716225, 79.91174888989288, 80.55611656602828, 217.49785146902272, 435.68205059433313, 250.1796506411101, 130.3186144513507, 464.0074615325375, 209.2354206342725, 135.08265883834366, 458.92361946717415, 189.44645680404136, 608.135570070439, 440.16080139623153, 167.41250132218062, 182.40430579797615, 271.4610584054717, 157.7721771556083, 268.7699183719997, 142.0853019107662, 710.9356895631564, 661.5972830763205, 454.36284989089285, 418.20213954713677, 385.3629531448449, 344.87505221565834, 347.7043670360113, 307.3315843759117, 291.23974367492644, 270.81445803889727, 267.9002861694214, 267.83509345096104, 240.97536570644837, 236.19726109429797, 235.12457185665696, 217.49061064660353, 219.7403329764636, 211.13393823473334, 213.236970120165, 180.6435059164437, 180.6435059164437, 183.68557786993708, 172.58671556094595, 169.8745127543165, 163.32385991393156, 165.56736886153368, 175.0692417165941, 159.46898197060173, 157.90808475690787, 159.70403900094487, 316.2761236703264, 312.55721638005684, 336.95319467354705, 270.5478424889978, 248.0453207457463, 238.42279902860017, 308.9062875884249, 180.79933208115906], \"Total\": [4624.0, 3348.0, 4619.0, 3263.0, 2491.0, 2461.0, 2418.0, 3418.0, 7181.0, 2989.0, 4828.0, 7580.0, 1115.0, 711.0, 662.0, 2874.0, 929.0, 922.0, 1218.0, 606.0, 2730.0, 455.0, 1049.0, 419.0, 652.0, 386.0, 562.0, 648.0, 548.0, 1080.0, 922.6597036346186, 648.6180511722488, 585.8881983970346, 497.8957968089969, 501.4692459014613, 411.57617066238953, 381.94513628635326, 344.27646186791833, 298.40386152024865, 275.46957453174775, 239.3704062836783, 236.57632316726915, 222.00607974708777, 223.2393924654301, 219.25442109853003, 205.7235053058033, 209.0352940726711, 197.09598187272996, 197.37349256573444, 196.60683102944787, 186.0741775249794, 183.1859350698467, 186.34499787384289, 166.5864963841996, 156.89329795992498, 157.8269294619314, 158.30048871632462, 152.44351562800233, 152.12980568034212, 148.5085983217231, 674.2685622731267, 1218.4375445437092, 505.0964739769149, 1049.7102830483786, 714.5461828502691, 2989.2084039983074, 842.9480862805116, 3418.3740998064995, 729.4566133224048, 2874.1527787472055, 7580.993534366786, 318.31471912930834, 877.1202140337319, 3128.6429903301896, 767.3737727753058, 1064.5621728579335, 481.67852660029797, 412.82698308227117, 7181.159193599443, 382.60779582427637, 533.9096346022287, 1165.031327553487, 750.0928570815643, 2730.6916681336807, 1430.220112350132, 4828.419568819439, 4624.149391927397, 3348.7110342556484, 2491.6815370297118, 2461.347132385693, 2418.1469744494802, 1115.1348035202038, 929.1132061759979, 562.6263791198418, 548.3307234211032, 260.14747797234975, 237.65801884511117, 230.80608494531967, 176.0189430200981, 173.76731991250736, 159.5249218372211, 150.5358724580812, 165.85434547905885, 146.25986224882675, 134.8952774258298, 129.1598284459821, 133.78058703977848, 115.90656224561774, 114.56351297408756, 98.53686401236014, 101.80044194543223, 129.39939777687744, 102.24327676049907, 102.4321788357358, 93.92968021545622, 89.88043319035337, 3263.0589811818168, 4619.112420904036, 4828.419568819439, 420.42565118559065, 2730.6916681336807, 7181.159193599443, 7580.993534366786, 493.60064026557774, 511.0915293746165, 1080.7714847017, 538.6397173032029, 652.9983523302277, 979.2148237297941, 1430.220112350132, 369.6621071617028, 606.6477284256001, 354.19972720615294, 336.5292609901476, 263.29682712702595, 242.64188706269937, 231.36178297551515, 220.48015924398436, 209.08847564779163, 193.76187631039815, 196.00344863146086, 183.33401609930232, 177.25979382226052, 174.28575939121336, 164.42732098981313, 155.87783530089737, 150.72020197764172, 140.439628021403, 139.1272041396278, 144.4760850827064, 133.0750128407837, 143.1591734214769, 125.58376203468488, 118.07580779572709, 121.19093918071674, 115.57164279377027, 112.93623250618525, 112.94277599080881, 110.27318868704505, 111.04028348906189, 106.08932972811272, 123.82853986065616, 630.4111190692983, 979.2148237297941, 3128.6429903301896, 3418.3740998064995, 7580.993534366786, 7181.159193599443, 750.0928570815643, 2874.1527787472055, 2989.2084039983074, 4828.419568819439, 1165.031327553487, 379.30732906839853, 877.1202140337319, 566.2987884076316, 2730.6916681336807, 587.9245290298915, 511.0915293746165, 3263.0589811818168, 311.7334156006156, 296.4837759577495, 231.27695047963957, 232.69347263342425, 232.1042425354294, 193.0508741274612, 182.1261383919325, 162.02435538379444, 159.88709148478222, 151.80457443093786, 149.61513577701064, 141.85800304652702, 129.53895540344413, 130.0399719645915, 118.04629952050324, 119.30031662772785, 117.0885864642598, 106.88438274064504, 104.95957813136556, 104.98080816493504, 96.83139172519816, 95.30339911437348, 91.94688657069956, 89.5307218371916, 87.01732682713214, 86.43059493471357, 87.8340151101996, 83.60826799394735, 83.36388649180151, 80.72365393696427, 81.39718311788275, 268.2659193363111, 652.9983523302277, 390.6234951308205, 160.6648250896686, 1080.7714847017, 329.4364125141325, 177.8803615945253, 1430.220112350132, 333.00092871840167, 4619.112420904036, 2874.1527787472055, 331.8449833008671, 416.4208421233284, 1165.031327553487, 369.6621071617028, 3128.6429903301896, 283.9153198874143, 711.7401799918503, 662.4018980193905, 455.15646200560286, 419.02748580073296, 386.1683850117236, 345.66252420705564, 348.50216904099074, 308.1491198723043, 292.0619463224294, 271.6074641014613, 268.69928576188124, 268.64147590088317, 241.76767216582044, 236.98876678591122, 235.91584509265522, 218.2852736167932, 220.5580857350353, 211.92639070601265, 214.0415241981908, 181.4301777118436, 181.4301777118436, 184.51421578350676, 173.38020770239962, 170.68147933047246, 164.11144283451745, 166.37751703601145, 175.9346829598703, 160.2574142096713, 158.6961885938636, 160.50226962912672, 406.0261792859426, 402.23312537631966, 587.9245290298915, 439.12183995571496, 386.4996343587045, 446.55481268733575, 4828.419568819439, 3128.6429903301896], \"Category\": [\"Default\", \"Default\", \"Default\", \"Default\", \"Default\", \"Default\", \"Default\", \"Default\", \"Default\", \"Default\", \"Default\", \"Default\", \"Default\", \"Default\", \"Default\", \"Default\", \"Default\", \"Default\", \"Default\", \"Default\", \"Default\", \"Default\", \"Default\", \"Default\", \"Default\", \"Default\", \"Default\", \"Default\", \"Default\", \"Default\", \"Topic1\", \"Topic1\", \"Topic1\", \"Topic1\", \"Topic1\", \"Topic1\", \"Topic1\", \"Topic1\", \"Topic1\", \"Topic1\", \"Topic1\", \"Topic1\", \"Topic1\", \"Topic1\", \"Topic1\", \"Topic1\", \"Topic1\", \"Topic1\", \"Topic1\", \"Topic1\", \"Topic1\", \"Topic1\", \"Topic1\", \"Topic1\", \"Topic1\", \"Topic1\", \"Topic1\", \"Topic1\", \"Topic1\", \"Topic1\", \"Topic1\", \"Topic1\", \"Topic1\", \"Topic1\", \"Topic1\", \"Topic1\", \"Topic1\", \"Topic1\", \"Topic1\", \"Topic1\", \"Topic1\", \"Topic1\", \"Topic1\", \"Topic1\", \"Topic1\", \"Topic1\", \"Topic1\", \"Topic1\", \"Topic1\", \"Topic1\", \"Topic1\", \"Topic1\", \"Topic1\", \"Topic1\", \"Topic1\", \"Topic1\", \"Topic2\", \"Topic2\", \"Topic2\", \"Topic2\", \"Topic2\", \"Topic2\", \"Topic2\", \"Topic2\", \"Topic2\", \"Topic2\", \"Topic2\", \"Topic2\", \"Topic2\", \"Topic2\", \"Topic2\", \"Topic2\", \"Topic2\", \"Topic2\", \"Topic2\", \"Topic2\", \"Topic2\", \"Topic2\", \"Topic2\", \"Topic2\", \"Topic2\", \"Topic2\", \"Topic2\", \"Topic2\", \"Topic2\", \"Topic2\", \"Topic2\", \"Topic2\", \"Topic2\", \"Topic2\", \"Topic2\", \"Topic2\", \"Topic2\", \"Topic2\", \"Topic2\", \"Topic2\", \"Topic2\", \"Topic2\", \"Topic2\", \"Topic2\", \"Topic2\", \"Topic3\", \"Topic3\", \"Topic3\", \"Topic3\", \"Topic3\", \"Topic3\", \"Topic3\", \"Topic3\", \"Topic3\", \"Topic3\", \"Topic3\", \"Topic3\", \"Topic3\", \"Topic3\", \"Topic3\", \"Topic3\", \"Topic3\", \"Topic3\", \"Topic3\", \"Topic3\", \"Topic3\", \"Topic3\", \"Topic3\", \"Topic3\", \"Topic3\", \"Topic3\", \"Topic3\", \"Topic3\", \"Topic3\", \"Topic3\", \"Topic3\", \"Topic3\", \"Topic3\", \"Topic3\", \"Topic3\", \"Topic3\", \"Topic3\", \"Topic3\", \"Topic3\", \"Topic3\", \"Topic3\", \"Topic3\", \"Topic3\", \"Topic3\", \"Topic3\", \"Topic3\", \"Topic3\", \"Topic3\", \"Topic3\", \"Topic4\", \"Topic4\", \"Topic4\", \"Topic4\", \"Topic4\", \"Topic4\", \"Topic4\", \"Topic4\", \"Topic4\", \"Topic4\", \"Topic4\", \"Topic4\", \"Topic4\", \"Topic4\", \"Topic4\", \"Topic4\", \"Topic4\", \"Topic4\", \"Topic4\", \"Topic4\", \"Topic4\", \"Topic4\", \"Topic4\", \"Topic4\", \"Topic4\", \"Topic4\", \"Topic4\", \"Topic4\", \"Topic4\", \"Topic4\", \"Topic4\", \"Topic4\", \"Topic4\", \"Topic4\", \"Topic4\", \"Topic4\", \"Topic4\", \"Topic4\", \"Topic4\", \"Topic4\", \"Topic4\", \"Topic4\", \"Topic4\", \"Topic4\", \"Topic4\", \"Topic4\", \"Topic4\", \"Topic4\", \"Topic5\", \"Topic5\", \"Topic5\", \"Topic5\", \"Topic5\", \"Topic5\", \"Topic5\", \"Topic5\", \"Topic5\", \"Topic5\", \"Topic5\", \"Topic5\", \"Topic5\", \"Topic5\", \"Topic5\", \"Topic5\", \"Topic5\", \"Topic5\", \"Topic5\", \"Topic5\", \"Topic5\", \"Topic5\", \"Topic5\", \"Topic5\", \"Topic5\", \"Topic5\", \"Topic5\", \"Topic5\", \"Topic5\", \"Topic5\", \"Topic5\", \"Topic5\", \"Topic5\", \"Topic5\", \"Topic5\", \"Topic5\", \"Topic5\", \"Topic5\"], \"logprob\": [30.0, 29.0, 28.0, 27.0, 26.0, 25.0, 24.0, 23.0, 22.0, 21.0, 20.0, 19.0, 18.0, 17.0, 16.0, 15.0, 14.0, 13.0, 12.0, 11.0, 10.0, 9.0, 8.0, 7.0, 6.0, 5.0, 4.0, 3.0, 2.0, 1.0, -4.312, -4.6648, -4.7667, -4.9296, -4.9225, -5.1204, -5.1952, -5.2994, -5.4426, -5.5229, -5.6638, -5.6755, -5.7393, -5.7338, -5.7518, -5.8158, -5.7999, -5.8588, -5.8574, -5.8615, -5.9166, -5.9323, -5.9152, -6.0277, -6.0879, -6.082, -6.0791, -6.1169, -6.119, -6.1433, -4.6816, -4.1331, -4.9833, -4.2993, -4.6771, -3.3731, -4.5587, -3.3044, -4.7144, -3.647, -2.9156, -5.4815, -4.6969, -3.7268, -4.8068, -4.5876, -5.2029, -5.3164, -3.563, -5.3837, -5.1912, -4.8334, -5.112, -4.6292, -4.9128, -4.8558, -2.5048, -2.8276, -3.1232, -3.1355, -3.1532, -3.9276, -4.1103, -4.6125, -4.6382, -5.3855, -5.4764, -5.5057, -5.7778, -5.7907, -5.8767, -5.9349, -5.8382, -5.9642, -6.0452, -6.089, -6.0541, -6.1979, -6.2103, -6.3615, -6.329, -6.0892, -6.3247, -6.3231, -6.4099, -6.4543, -2.9127, -2.647, -2.8706, -5.0669, -3.528, -2.7076, -3.1831, -5.1611, -5.1372, -4.8463, -5.4521, -5.5652, -5.5285, -5.4908, -5.7702, -4.2652, -4.8043, -4.8556, -5.1016, -5.1835, -5.2313, -5.2796, -5.333, -5.4093, -5.3979, -5.4649, -5.4988, -5.5158, -5.5743, -5.628, -5.6617, -5.7328, -5.7422, -5.7047, -5.7869, -5.714, -5.8453, -5.9072, -5.8813, -5.929, -5.9521, -5.9521, -5.9761, -5.9693, -6.0151, -5.8609, -4.5581, -4.5034, -3.857, -3.8776, -3.4051, -3.476, -4.8569, -4.2087, -4.2241, -4.0158, -4.8258, -5.3183, -5.1538, -5.3305, -4.9526, -5.3728, -5.4898, -5.4357, -4.6364, -4.6867, -4.9358, -4.9297, -4.9322, -5.1172, -5.176, -5.2931, -5.3065, -5.3586, -5.3732, -5.4271, -5.5181, -5.5143, -5.6117, -5.6011, -5.6199, -5.7117, -5.7301, -5.7301, -5.8113, -5.8275, -5.8636, -5.8905, -5.9191, -5.926, -5.9099, -5.9594, -5.9626, -5.995, -5.9869, -4.9937, -4.299, -4.8537, -5.5059, -4.236, -5.0324, -5.47, -4.247, -5.1318, -3.9655, -4.2887, -5.2554, -5.1697, -4.7721, -5.3147, -4.782, -5.4195, -3.7196, -3.7916, -4.1673, -4.2503, -4.332, -4.443, -4.4349, -4.5583, -4.6121, -4.6848, -4.6956, -4.6958, -4.8015, -4.8215, -4.8261, -4.9041, -4.8938, -4.9337, -4.9238, -5.0897, -5.0897, -5.073, -5.1353, -5.1512, -5.1905, -5.1768, -5.121, -5.2144, -5.2242, -5.2129, -4.5296, -4.5414, -4.4663, -4.6858, -4.7726, -4.8122, -4.5532, -5.0888], \"loglift\": [30.0, 29.0, 28.0, 27.0, 26.0, 25.0, 24.0, 23.0, 22.0, 21.0, 20.0, 19.0, 18.0, 17.0, 16.0, 15.0, 14.0, 13.0, 12.0, 11.0, 10.0, 9.0, 8.0, 7.0, 6.0, 5.0, 4.0, 3.0, 2.0, 1.0, 1.206, 1.2057, 1.2055, 1.2053, 1.2053, 1.2049, 1.2048, 1.2045, 1.2042, 1.204, 1.2035, 1.2035, 1.2033, 1.2033, 1.2032, 1.203, 1.2029, 1.2028, 1.2028, 1.2026, 1.2026, 1.2025, 1.2025, 1.2021, 1.2018, 1.2018, 1.2018, 1.2017, 1.2016, 1.2014, 1.15, 1.1069, 1.1372, 1.0898, 1.0965, 0.9694, 1.0497, 0.904, 1.0386, 0.7348, 0.4964, 1.1007, 0.8718, 0.5702, 0.8955, 0.7874, 0.9651, 1.0059, -0.0969, 1.0146, 0.8739, 0.4514, 0.6132, -0.1961, 0.167, -0.9927, 1.4015, 1.4014, 1.4014, 1.4014, 1.4013, 1.4009, 1.4008, 1.4002, 1.4002, 1.3985, 1.3981, 1.3981, 1.397, 1.3969, 1.3964, 1.3962, 1.396, 1.3957, 1.3957, 1.3952, 1.395, 1.3946, 1.3939, 1.3934, 1.3933, 1.3932, 1.3932, 1.393, 1.3929, 1.3925, 1.3422, 1.2604, 0.9924, 1.2372, 0.905, 0.7585, 0.2288, 0.9825, 0.9715, 0.5136, 0.6041, 0.2985, -0.0699, -0.4111, 0.6625, 1.6722, 1.6712, 1.671, 1.6704, 1.6702, 1.67, 1.6699, 1.6696, 1.6694, 1.6693, 1.6691, 1.6689, 1.6688, 1.6685, 1.6683, 1.6681, 1.6677, 1.6677, 1.6675, 1.6675, 1.6674, 1.667, 1.6667, 1.6667, 1.6664, 1.6664, 1.6664, 1.6663, 1.6661, 1.6659, 1.6656, 1.3408, 0.9552, 0.44, 0.3308, 0.0069, -0.0099, 0.8682, 0.1731, 0.1184, -0.1528, 0.459, 1.0886, 0.4149, 0.6757, -0.5196, 0.5959, 0.619, -1.1808, 1.9667, 1.9666, 1.9659, 1.9659, 1.9659, 1.9652, 1.9646, 1.9644, 1.9643, 1.9641, 1.964, 1.9634, 1.9632, 1.9632, 1.9626, 1.9626, 1.9625, 1.9618, 1.9616, 1.9614, 1.961, 1.9608, 1.9605, 1.9602, 1.9601, 1.96, 1.9599, 1.9597, 1.9595, 1.9593, 1.959, 1.7596, 1.5648, 1.5239, 1.7601, 1.1239, 1.5155, 1.6942, 0.8327, 1.4054, -0.0581, 0.0931, 1.2852, 1.144, 0.5128, 1.118, -0.4851, 1.2772, 2.058, 2.0579, 2.0574, 2.0571, 2.057, 2.0568, 2.0568, 2.0564, 2.0563, 2.0562, 2.0561, 2.0561, 2.0558, 2.0558, 2.0557, 2.0555, 2.0554, 2.0554, 2.0553, 2.0548, 2.0548, 2.0546, 2.0545, 2.0544, 2.0543, 2.0542, 2.0542, 2.0542, 2.0541, 2.0541, 1.8093, 1.8069, 1.5024, 1.5748, 1.6156, 1.4316, -0.6901, -0.7919]}, \"token.table\": {\"Topic\": [2, 4, 3, 2, 1, 3, 4, 1, 2, 3, 4, 5, 5, 1, 3, 3, 5, 1, 1, 2, 3, 4, 5, 5, 2, 3, 1, 3, 3, 5, 1, 3, 4, 1, 2, 1, 4, 3, 2, 3, 5, 5, 1, 5, 1, 3, 4, 2, 2, 1, 5, 1, 3, 5, 2, 3, 4, 1, 4, 2, 4, 2, 4, 5, 1, 3, 3, 3, 2, 2, 4, 1, 1, 3, 3, 5, 3, 5, 1, 4, 3, 1, 1, 2, 4, 5, 5, 4, 5, 1, 4, 5, 2, 1, 3, 4, 5, 1, 2, 3, 5, 1, 2, 3, 1, 4, 1, 1, 2, 4, 1, 4, 3, 2, 4, 2, 2, 4, 5, 3, 1, 3, 4, 3, 3, 2, 4, 2, 1, 1, 1, 2, 3, 4, 5, 3, 1, 3, 1, 5, 4, 1, 2, 2, 1, 1, 3, 5, 3, 4, 1, 3, 5, 2, 3, 4, 3, 5, 3, 5, 1, 3, 5, 5, 1, 2, 3, 4, 1, 3, 5, 1, 3, 4, 2, 3, 4, 2, 3, 1, 2, 3, 5, 4, 1, 1, 3, 5, 4, 5, 5, 3, 3, 3, 4, 4, 4, 5, 1, 5, 1, 5, 5, 4, 1, 1, 4, 2, 1, 3, 3, 2, 2, 1, 1, 5, 1, 4, 2, 1, 3, 1, 2, 3, 4, 3, 2, 1, 1, 3, 1, 2, 3, 4, 5, 5, 3, 1, 2, 3, 4, 2, 1, 5, 5, 1, 5, 1, 3, 4, 5, 2, 1, 4, 2, 4, 5, 1, 3, 5, 3, 3, 2, 2, 2, 1, 4, 2, 3, 1, 3, 1, 3, 4, 5, 1, 4, 2, 1, 2, 3, 4, 2, 4, 4, 3, 4, 4, 4, 5, 2, 4, 2, 3, 4], \"Freq\": [0.9941651695731729, 0.9905046455048967, 0.9917100784627824, 0.9993968541119859, 0.6238360094349398, 0.2230222431945323, 0.15308859127237787, 0.14464585097096622, 0.14163239574240444, 0.20792841077076396, 0.50324702316982, 0.9946873297285932, 0.996117916148042, 0.9964831179367286, 0.9989322824511663, 0.5562771500308961, 0.44027622774957176, 0.9962923347678412, 0.5289833340253806, 0.03611789531411964, 0.29118055425807954, 0.08597976849113435, 0.05785255798102349, 0.9973975153677894, 0.9423672749201409, 0.05761464965365414, 0.8444642063005613, 0.15353894660010206, 0.9966128511288924, 0.9951340086831636, 0.7148393002100931, 0.28388354984419967, 0.9927247865726463, 0.9944481462176439, 0.9910202075990897, 0.9969134794235253, 0.9940721818577906, 0.9928929522307596, 0.9933631670217511, 0.9906314766463618, 0.9977309612336038, 0.993227511651103, 0.465788284193536, 0.5329692867214499, 0.7323680062291611, 0.10425167348457809, 0.16289323981965326, 0.9942111740781118, 0.9957808294166147, 0.8541451267503114, 0.1447301464771361, 0.6145165893406497, 0.3690631240580338, 0.01589267041398232, 0.9964402341493027, 0.9978222110976752, 0.986323687019712, 0.9925734100869353, 0.9883089165775782, 0.23611375434314752, 0.7589370675315456, 0.8491394352206346, 0.14984813562717084, 0.9969744156770157, 0.9954682333554382, 0.996869629835989, 0.9926226939268902, 0.991652622467102, 0.9913861381416906, 0.8681321506384071, 0.13162701934866622, 0.9917846828719834, 0.28235542587318047, 0.7169924297453797, 0.9908888381471991, 0.997807087051988, 0.9984272957763305, 0.9976121486872718, 0.9975639017482673, 0.9945564912243423, 0.9953516121413559, 0.9981076862912073, 0.9447274211517661, 0.05487427720975722, 0.9970198019498522, 0.9962708967892542, 0.9974696654934441, 0.9976472987369591, 0.9968706384633232, 0.88976931547974, 0.1095540377732014, 0.9974591989741132, 0.995081217750236, 0.7885030688550595, 0.2110926756247529, 0.8091379051229524, 0.18672413195145054, 0.11080230132751469, 0.6641924866492329, 0.16092222080650265, 0.06399609553308792, 0.28287970452174827, 0.22977593327578832, 0.48712497854467124, 0.9984840138451933, 0.9906572621979238, 0.9964793281752745, 0.825911033305584, 0.17250040569040678, 0.994451762950065, 0.994227154249626, 0.9917258001780205, 0.9901730344795757, 0.3642584591187294, 0.6344168162984537, 0.9955891251328152, 0.994848820652898, 0.9907028814922786, 0.9963639688915275, 0.994794186315533, 0.40152817412320807, 0.09862095504780549, 0.5001491291710135, 0.9981781007888825, 0.9933089749617615, 0.33231324279094193, 0.6676892804463165, 0.9988866872526992, 0.9975254658416578, 0.9944393494869029, 0.2689586799472197, 0.144085007114582, 0.14888784068506808, 0.4370578549142321, 0.9968247526274153, 0.9950537798031449, 0.9992849978903166, 0.9919029050407816, 0.9324951257163729, 0.06533405339414078, 0.9944786954472059, 0.997090623197876, 0.9972312365124106, 0.9891854382561316, 0.999064257867663, 0.08504492929135447, 0.3401797171654179, 0.5732028234237292, 0.42942823177807493, 0.5675659846577354, 0.7847557636997766, 0.1349447741811785, 0.0788907910597659, 0.6584270227549471, 0.34035612253178804, 0.9956349624865763, 0.2212647203452817, 0.7781557018884626, 0.9967047481772928, 0.998559064804754, 0.7386552572297251, 0.26123530483411667, 0.9956287147488971, 0.9958277904926842, 0.2457252892482738, 0.6086370055598078, 0.11169331329466992, 0.034057305365260006, 0.7173498569385083, 0.2828193952942944, 0.9977634484255765, 0.19712075940084597, 0.1612806213279649, 0.6400024655871622, 0.47881564426232676, 0.09468105959989512, 0.42741735476524084, 0.6495901045478937, 0.34827421267929237, 0.29704456403822005, 0.4511364316330467, 0.1949354951500819, 0.05755238428240513, 0.9951204316578434, 0.9990471261613336, 0.9984525811296852, 0.2191976885739726, 0.7782749392064644, 0.9936777691146, 0.9972131373112731, 0.997547927437816, 0.9919217528682872, 0.9897319576727983, 0.9918980321167344, 0.9920026746478023, 0.9958394337690498, 0.9938167118576409, 0.997628962737793, 0.35705079056277783, 0.6416564931852818, 0.9950472762158951, 0.9941119545285976, 0.997628962737793, 0.9908576411181401, 0.9982953669836462, 0.8984818571453456, 0.09738789360666332, 0.9967094681434371, 0.9986465941888583, 0.9948804542039074, 0.9960679761937397, 0.9921371466554018, 0.9945516430044617, 0.9935260582675493, 0.904437002072754, 0.09438317172265581, 0.9947605300011183, 0.9891004763064842, 0.9921785080322144, 0.5519316656484067, 0.44661137196187495, 0.49136039796281616, 0.3094581190928233, 0.18889344694839, 0.010288888870093868, 0.9984362889546307, 0.9955842104666532, 0.996575293771063, 0.9942786964465984, 0.9884542316930877, 0.3537916965581912, 0.16291198675505641, 0.11606605064952517, 0.3209296219766991, 0.04684593610553124, 0.992153784485589, 0.9950746572179531, 0.27154390362742997, 0.5255418934820106, 0.18576388073794442, 0.017128153921114816, 0.9965075229905198, 0.9943063344863007, 0.995613073004259, 0.9960073035859212, 0.38258174546030926, 0.6171407917841893, 0.6575473164904718, 0.11741916365901282, 0.05823990517487036, 0.16720488905043426, 0.9878400145232884, 0.9982008347635428, 0.9897018093160611, 0.9998589665061358, 0.9939516768310519, 0.9989600418626657, 0.818744931536224, 0.10658218043666821, 0.07509199076219805, 0.9973545908727066, 0.9952215962545714, 0.9997876692708404, 0.9901023807030567, 0.9989823620277821, 0.9986000874116151, 0.9911365326591919, 0.999726475065299, 0.9974011557979492, 0.8956733873338877, 0.10356223541048076, 0.4695152714465414, 0.296987721975326, 0.2326117706800964, 0.9993932716367628, 0.9981486067360045, 0.9914140268937, 0.9997514371120009, 0.07864752281418727, 0.41174291355662745, 0.08049805276275639, 0.429322948068034, 0.9902043953383186, 0.9952424715577491, 0.9950180264865836, 0.1863822289603533, 0.8088988736879333, 0.9946999328975827, 0.9983682885979621, 0.9980833206938604, 0.9988018616368832, 0.9958885458091122, 0.9995256804232334, 0.9943684405213682, 0.9910354164898264], \"Term\": [\"1\", \"14\", \"2023\", \"82\", \"a\", \"a\", \"a\", \"about\", \"about\", \"about\", \"about\", \"against\", \"agege\", \"air\", \"all\", \"amp\", \"amp\", \"an\", \"and\", \"and\", \"and\", \"and\", \"and\", \"another\", \"are\", \"are\", \"as\", \"as\", \"asuu\", \"balogun\", \"be\", \"be\", \"bedroom\", \"before\", \"below\", \"best\", \"better\", \"big\", \"books\", \"both\", \"breaking\", \"broke\", \"but\", \"but\", \"by\", \"by\", \"by\", \"check\", \"child\", \"china\", \"china\", \"chinese\", \"chinese\", \"chinese\", \"click\", \"come\", \"contact\", \"country\", \"covered\", \"dm\", \"dm\", \"do\", \"do\", \"dont\", \"drills\", \"even\", \"exercises\", \"fire\", \"first\", \"for\", \"for\", \"foreign\", \"from\", \"from\", \"fujian\", \"funny\", \"go\", \"god\", \"good\", \"got\", \"government\", \"happy\", \"have\", \"have\", \"help\", \"her\", \"his\", \"how\", \"hundeyin\", \"i\", \"i\", \"iii\", \"im\", \"in\", \"in\", \"iphone\", \"iphone\", \"is\", \"is\", \"is\", \"is\", \"it\", \"it\", \"it\", \"its\", \"job\", \"join\", \"just\", \"just\", \"kindly\", \"late\", \"lekki\", \"life\", \"like\", \"like\", \"link\", \"live\", \"location\", \"look\", \"love\", \"make\", \"make\", \"make\", \"man\", \"mbaka\", \"me\", \"me\", \"meeting\", \"military\", \"month\", \"more\", \"more\", \"more\", \"more\", \"mr\", \"must\", \"my\", \"name\", \"nancy\", \"nancy\", \"nationwide\", \"near\", \"need\", \"never\", \"new\", \"nigeria\", \"nigeria\", \"nigeria\", \"no\", \"no\", \"not\", \"not\", \"not\", \"now\", \"now\", \"o\", \"obi\", \"obi\", \"obidients\", \"obituary\", \"of\", \"of\", \"omatseye\", \"omo\", \"on\", \"on\", \"on\", \"on\", \"one\", \"one\", \"onitsha\", \"or\", \"or\", \"or\", \"order\", \"order\", \"order\", \"our\", \"our\", \"out\", \"out\", \"out\", \"out\", \"party\", \"pelosi\", \"people\", \"peter\", \"peter\", \"place\", \"plane\", \"please\", \"police\", \"prepare\", \"president\", \"price\", \"quality\", \"read\", \"renato\", \"retweet\", \"retweet\", \"said\", \"sam\", \"sanches\", \"send\", \"she\", \"so\", \"so\", \"soon\", \"speaker\", \"start\", \"state\", \"stop\", \"store\", \"support\", \"taiwan\", \"taiwan\", \"take\", \"talking\", \"thank\", \"that\", \"that\", \"the\", \"the\", \"the\", \"the\", \"their\", \"then\", \"there\", \"these\", \"things\", \"this\", \"this\", \"this\", \"this\", \"this\", \"though\", \"time\", \"to\", \"to\", \"to\", \"to\", \"too\", \"trip\", \"truth\", \"tv\", \"up\", \"up\", \"us\", \"us\", \"us\", \"us\", \"very\", \"visit\", \"vs\", \"waiting\", \"want\", \"war\", \"was\", \"was\", \"was\", \"watch\", \"way\", \"we\", \"website\", \"welcome\", \"what\", \"whatsapp\", \"where\", \"why\", \"will\", \"will\", \"with\", \"with\", \"with\", \"world\", \"would\", \"year\", \"you\", \"your\", \"your\", \"your\", \"your\", \"youtube\", \"\\u0627\\u0644\\u062d\\u0631\\u0628\\u0627\\u0644\\u0639\\u0627\\u0644\\u0645\\u064a\\u0629\\u0627\\u0644\\u062b\\u0627\\u0644\\u062b\\u0629\", \"\\u0627\\u0644\\u0642\\u0628\\u0648\\u0644\\u0627\\u0644\\u0645\\u0648\\u062d\\u062f\\u0644\\u0644\\u0637\\u0627\\u0644\\u0628\\u0627\\u062a\", \"\\u062a\\u0627\\u064a\\u0648\\u0627\\u0646\", \"\\u062a\\u0627\\u064a\\u0648\\u0627\\u0646\", \"\\u0e21\\u0e32\\u0e01\\u0e2d\\u0e14\\u0e01\\u0e31\\u0e19\\u0e19\\u0e30\\u0e0b\\u0e35\\u0e1e\\u0e24\\u0e01\\u0e29\\u0e4c\", \"\\u0e44\\u0e15\\u0e49\\u0e2b\\u0e27\\u0e31\\u0e19\", \"\\u2022\", \"\\u2026\\u2026come\", \"\\u260e\\ufe0f\", \"\\ud83c\\udde8\\ud83c\\uddf3\", \"\\ud83d\\udc47\", \"\\ud83d\\udd25\"]}, \"R\": 30, \"lambda.step\": 0.01, \"plot.opts\": {\"xlab\": \"PC1\", \"ylab\": \"PC2\"}, \"topic.order\": [2, 4, 1, 3, 5]};\n",
       "\n",
       "function LDAvis_load_lib(url, callback){\n",
       "  var s = document.createElement('script');\n",
       "  s.src = url;\n",
       "  s.async = true;\n",
       "  s.onreadystatechange = s.onload = callback;\n",
       "  s.onerror = function(){console.warn(\"failed to load library \" + url);};\n",
       "  document.getElementsByTagName(\"head\")[0].appendChild(s);\n",
       "}\n",
       "\n",
       "if(typeof(LDAvis) !== \"undefined\"){\n",
       "   // already loaded: just create the visualization\n",
       "   !function(LDAvis){\n",
       "       new LDAvis(\"#\" + \"ldavis_el890023632137902565816091328\", ldavis_el890023632137902565816091328_data);\n",
       "   }(LDAvis);\n",
       "}else if(typeof define === \"function\" && define.amd){\n",
       "   // require.js is available: use it to load d3/LDAvis\n",
       "   require.config({paths: {d3: \"https://d3js.org/d3.v5\"}});\n",
       "   require([\"d3\"], function(d3){\n",
       "      window.d3 = d3;\n",
       "      LDAvis_load_lib(\"https://cdn.jsdelivr.net/gh/bmabey/pyLDAvis@3.3.1/pyLDAvis/js/ldavis.v3.0.0.js\", function(){\n",
       "        new LDAvis(\"#\" + \"ldavis_el890023632137902565816091328\", ldavis_el890023632137902565816091328_data);\n",
       "      });\n",
       "    });\n",
       "}else{\n",
       "    // require.js not available: dynamically load d3 & LDAvis\n",
       "    LDAvis_load_lib(\"https://d3js.org/d3.v5.js\", function(){\n",
       "         LDAvis_load_lib(\"https://cdn.jsdelivr.net/gh/bmabey/pyLDAvis@3.3.1/pyLDAvis/js/ldavis.v3.0.0.js\", function(){\n",
       "                 new LDAvis(\"#\" + \"ldavis_el890023632137902565816091328\", ldavis_el890023632137902565816091328_data);\n",
       "            })\n",
       "         });\n",
       "}\n",
       "</script>"
      ],
      "text/plain": [
       "PreparedData(topic_coordinates=              x         y  topics  cluster       Freq\n",
       "topic                                                \n",
       "1     -0.074294  0.175079       1        1  29.912180\n",
       "3     -0.196750 -0.030500       2        1  24.618305\n",
       "0     -0.086507  0.149022       3        1  18.759092\n",
       "2     -0.019180 -0.329636       4        1  13.953573\n",
       "4      0.376730  0.036035       5        1  12.756850, topic_info=        Term         Freq        Total Category  logprob  loglift\n",
       "38       you  4624.000000  4624.000000  Default  30.0000  30.0000\n",
       "80        we  3348.000000  3348.000000  Default  29.0000  29.0000\n",
       "17       for  4619.000000  4619.000000  Default  28.0000  28.0000\n",
       "13       are  3263.000000  3263.000000  Default  27.0000  27.0000\n",
       "207    where  2491.000000  2491.000000  Default  26.0000  26.0000\n",
       "..       ...          ...          ...      ...      ...      ...\n",
       "528       up   270.547842   439.121840   Topic5  -4.6858   1.5748\n",
       "289  retweet   248.045321   386.499634   Topic5  -4.7726   1.6156\n",
       "54       but   238.422799   446.554813   Topic5  -4.8122   1.4316\n",
       "75        is   308.906288  4828.419569   Topic5  -4.5532  -0.6901\n",
       "87       and   180.799332  3128.642990   Topic5  -5.0888  -0.7919\n",
       "\n",
       "[266 rows x 6 columns], token_table=      Topic      Freq    Term\n",
       "term                         \n",
       "368       2  0.994165       1\n",
       "1190      4  0.990505      14\n",
       "687       3  0.991710    2023\n",
       "5838      2  0.999397      82\n",
       "0         1  0.623836       a\n",
       "...     ...       ...     ...\n",
       "5839      2  0.998802  ……come\n",
       "1499      4  0.995889      ☎️\n",
       "829       2  0.999526      🇨🇳\n",
       "710       3  0.994368       👇\n",
       "822       4  0.991035       🔥\n",
       "\n",
       "[295 rows x 3 columns], R=30, lambda_step=0.01, plot_opts={'xlab': 'PC1', 'ylab': 'PC2'}, topic_order=[2, 4, 1, 3, 5])"
      ]
     },
     "execution_count": 36,
     "metadata": {},
     "output_type": "execute_result"
    }
   ],
   "source": [
    "# Visualize the topics\n",
    "pyLDAvis.enable_notebook()\n",
    "\n",
    "LDAvis_prepared = gensimvis.prepare(lda_model, corpus, id2word)\n",
    "LDAvis_prepared"
   ]
  }
 ],
 "metadata": {
  "kernelspec": {
   "display_name": "Python 3.10.5 64-bit",
   "language": "python",
   "name": "python3"
  },
  "language_info": {
   "codemirror_mode": {
    "name": "ipython",
    "version": 3
   },
   "file_extension": ".py",
   "mimetype": "text/x-python",
   "name": "python",
   "nbconvert_exporter": "python",
   "pygments_lexer": "ipython3",
   "version": "3.10.5"
  },
  "orig_nbformat": 4,
  "vscode": {
   "interpreter": {
    "hash": "b1991c03751bb1ed07063b349673f109e299af7bd2e157024b7d7177e34b5cc3"
   }
  }
 },
 "nbformat": 4,
 "nbformat_minor": 2
}
