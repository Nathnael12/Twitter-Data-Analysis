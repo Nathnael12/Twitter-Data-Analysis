{
 "cells": [
  {
   "cell_type": "code",
   "execution_count": 1,
   "metadata": {},
   "outputs": [],
   "source": [
    "# import necessary packages\n",
    "import pandas as pd\n",
    "import matplotlib.pyplot as plt\n",
    "import sys\n",
    "import string\n",
    "from wordcloud import WordCloud, STOPWORDS"
   ]
  },
  {
   "cell_type": "code",
   "execution_count": 3,
   "metadata": {},
   "outputs": [
    {
     "data": {
      "text/html": [
       "<div>\n",
       "<style scoped>\n",
       "    .dataframe tbody tr th:only-of-type {\n",
       "        vertical-align: middle;\n",
       "    }\n",
       "\n",
       "    .dataframe tbody tr th {\n",
       "        vertical-align: top;\n",
       "    }\n",
       "\n",
       "    .dataframe thead th {\n",
       "        text-align: right;\n",
       "    }\n",
       "</style>\n",
       "<table border=\"1\" class=\"dataframe\">\n",
       "  <thead>\n",
       "    <tr style=\"text-align: right;\">\n",
       "      <th></th>\n",
       "      <th>created_at</th>\n",
       "      <th>source</th>\n",
       "      <th>original_text</th>\n",
       "      <th>polarity</th>\n",
       "      <th>subjectivity</th>\n",
       "      <th>lang</th>\n",
       "      <th>favorite_count</th>\n",
       "      <th>retweet_count</th>\n",
       "      <th>original_author</th>\n",
       "      <th>followers_count</th>\n",
       "      <th>friends_count</th>\n",
       "      <th>possibly_sensitive</th>\n",
       "      <th>hashtags</th>\n",
       "      <th>user_mentions</th>\n",
       "      <th>place</th>\n",
       "    </tr>\n",
       "  </thead>\n",
       "  <tbody>\n",
       "    <tr>\n",
       "      <th>0</th>\n",
       "      <td>Wed Aug 03 20:19:13 +0000 2022</td>\n",
       "      <td>&lt;a href=\"http://twitter.com/download/android\" ...</td>\n",
       "      <td>#Pelosi airplane landed safely in #Taiwan 🇹🇼  ...</td>\n",
       "      <td>0.300000</td>\n",
       "      <td>0.203571</td>\n",
       "      <td>en</td>\n",
       "      <td>0</td>\n",
       "      <td>0</td>\n",
       "      <td>DzCritical</td>\n",
       "      <td>318</td>\n",
       "      <td>373</td>\n",
       "      <td>NaN</td>\n",
       "      <td>['Pelosi', 'Taiwan', 'NATO', '5G']</td>\n",
       "      <td>Flightradar24</td>\n",
       "      <td>Algérie</td>\n",
       "    </tr>\n",
       "    <tr>\n",
       "      <th>1</th>\n",
       "      <td>Tue Aug 02 15:24:42 +0000 2022</td>\n",
       "      <td>&lt;a href=\"https://mobile.twitter.com\" rel=\"nofo...</td>\n",
       "      <td>Watch the video of the beginning of the Chines...</td>\n",
       "      <td>0.000000</td>\n",
       "      <td>0.000000</td>\n",
       "      <td>en</td>\n",
       "      <td>3</td>\n",
       "      <td>0</td>\n",
       "      <td>toopsat</td>\n",
       "      <td>764</td>\n",
       "      <td>144</td>\n",
       "      <td>False</td>\n",
       "      <td>['Pelosi', 'マツコの知らない世界', 'Yediiklim', 'BadDeci...</td>\n",
       "      <td>Reno Omokri</td>\n",
       "      <td>NaN</td>\n",
       "    </tr>\n",
       "    <tr>\n",
       "      <th>2</th>\n",
       "      <td>Tue Aug 02 15:02:35 +0000 2022</td>\n",
       "      <td>&lt;a href=\"http://twitter.com/download/android\" ...</td>\n",
       "      <td>#Pelosi \\n#Taipei \\n#taiwan\\n#XiJinping \\n#Chi...</td>\n",
       "      <td>0.000000</td>\n",
       "      <td>0.000000</td>\n",
       "      <td>en</td>\n",
       "      <td>2</td>\n",
       "      <td>0</td>\n",
       "      <td>NassimaLilEmy</td>\n",
       "      <td>64</td>\n",
       "      <td>47</td>\n",
       "      <td>False</td>\n",
       "      <td>['Pelosi', 'Taipei', 'taiwan', 'XiJinping', 'C...</td>\n",
       "      <td>Peter Obi</td>\n",
       "      <td>Algérie</td>\n",
       "    </tr>\n",
       "    <tr>\n",
       "      <th>3</th>\n",
       "      <td>Mon Aug 01 13:51:42 +0000 2022</td>\n",
       "      <td>&lt;a href=\"http://twitter.com/download/android\" ...</td>\n",
       "      <td>#HOBIPALOOZA #LaAcademiaExpulsion #WEURO2022 #...</td>\n",
       "      <td>0.433333</td>\n",
       "      <td>0.733333</td>\n",
       "      <td>en</td>\n",
       "      <td>0</td>\n",
       "      <td>0</td>\n",
       "      <td>d_dhayae</td>\n",
       "      <td>60</td>\n",
       "      <td>463</td>\n",
       "      <td>False</td>\n",
       "      <td>['HOBIPALOOZA', 'LaAcademiaExpulsion', 'WEURO2...</td>\n",
       "      <td>BBC News (World)</td>\n",
       "      <td>Chlef</td>\n",
       "    </tr>\n",
       "    <tr>\n",
       "      <th>4</th>\n",
       "      <td>Sun Jul 31 20:02:20 +0000 2022</td>\n",
       "      <td>&lt;a href=\"http://twitter.com/download/android\" ...</td>\n",
       "      <td>#Pelosi\\n#china\\nChina Time ✌️ https://t.co/tE...</td>\n",
       "      <td>0.000000</td>\n",
       "      <td>0.000000</td>\n",
       "      <td>en</td>\n",
       "      <td>2</td>\n",
       "      <td>0</td>\n",
       "      <td>Mohamme65404115</td>\n",
       "      <td>39</td>\n",
       "      <td>206</td>\n",
       "      <td>False</td>\n",
       "      <td>['Pelosi', 'china']</td>\n",
       "      <td>Nancy Pelosi</td>\n",
       "      <td>Algérie</td>\n",
       "    </tr>\n",
       "  </tbody>\n",
       "</table>\n",
       "</div>"
      ],
      "text/plain": [
       "                       created_at  \\\n",
       "0  Wed Aug 03 20:19:13 +0000 2022   \n",
       "1  Tue Aug 02 15:24:42 +0000 2022   \n",
       "2  Tue Aug 02 15:02:35 +0000 2022   \n",
       "3  Mon Aug 01 13:51:42 +0000 2022   \n",
       "4  Sun Jul 31 20:02:20 +0000 2022   \n",
       "\n",
       "                                              source  \\\n",
       "0  <a href=\"http://twitter.com/download/android\" ...   \n",
       "1  <a href=\"https://mobile.twitter.com\" rel=\"nofo...   \n",
       "2  <a href=\"http://twitter.com/download/android\" ...   \n",
       "3  <a href=\"http://twitter.com/download/android\" ...   \n",
       "4  <a href=\"http://twitter.com/download/android\" ...   \n",
       "\n",
       "                                       original_text  polarity  subjectivity  \\\n",
       "0  #Pelosi airplane landed safely in #Taiwan 🇹🇼  ...  0.300000      0.203571   \n",
       "1  Watch the video of the beginning of the Chines...  0.000000      0.000000   \n",
       "2  #Pelosi \\n#Taipei \\n#taiwan\\n#XiJinping \\n#Chi...  0.000000      0.000000   \n",
       "3  #HOBIPALOOZA #LaAcademiaExpulsion #WEURO2022 #...  0.433333      0.733333   \n",
       "4  #Pelosi\\n#china\\nChina Time ✌️ https://t.co/tE...  0.000000      0.000000   \n",
       "\n",
       "  lang  favorite_count  retweet_count  original_author  followers_count  \\\n",
       "0   en               0              0       DzCritical              318   \n",
       "1   en               3              0          toopsat              764   \n",
       "2   en               2              0    NassimaLilEmy               64   \n",
       "3   en               0              0         d_dhayae               60   \n",
       "4   en               2              0  Mohamme65404115               39   \n",
       "\n",
       "   friends_count possibly_sensitive  \\\n",
       "0            373                NaN   \n",
       "1            144              False   \n",
       "2             47              False   \n",
       "3            463              False   \n",
       "4            206              False   \n",
       "\n",
       "                                            hashtags     user_mentions  \\\n",
       "0                 ['Pelosi', 'Taiwan', 'NATO', '5G']     Flightradar24   \n",
       "1  ['Pelosi', 'マツコの知らない世界', 'Yediiklim', 'BadDeci...       Reno Omokri   \n",
       "2  ['Pelosi', 'Taipei', 'taiwan', 'XiJinping', 'C...         Peter Obi   \n",
       "3  ['HOBIPALOOZA', 'LaAcademiaExpulsion', 'WEURO2...  BBC News (World)   \n",
       "4                                ['Pelosi', 'china']      Nancy Pelosi   \n",
       "\n",
       "                            place  \n",
       "0                         Algérie  \n",
       "1                             NaN  \n",
       "2                         Algérie  \n",
       "3  Chlef                           \n",
       "4                         Algérie  "
      ]
     },
     "execution_count": 3,
     "metadata": {},
     "output_type": "execute_result"
    }
   ],
   "source": [
    "processed_tweets = pd.read_csv('../data/processed_tweet_data.csv')\n",
    "processed_tweets.head()"
   ]
  },
  {
   "cell_type": "markdown",
   "metadata": {},
   "source": [
    "### Data Exploration checkpoints <br>\n",
    "- Check what the columns are and their types\n",
    "- Check if there exists any missing value\n"
   ]
  },
  {
   "cell_type": "code",
   "execution_count": 4,
   "metadata": {},
   "outputs": [
    {
     "data": {
      "text/plain": [
       "['created_at',\n",
       " 'source',\n",
       " 'original_text',\n",
       " 'polarity',\n",
       " 'subjectivity',\n",
       " 'lang',\n",
       " 'favorite_count',\n",
       " 'retweet_count',\n",
       " 'original_author',\n",
       " 'followers_count',\n",
       " 'friends_count',\n",
       " 'possibly_sensitive',\n",
       " 'hashtags',\n",
       " 'user_mentions',\n",
       " 'place']"
      ]
     },
     "execution_count": 4,
     "metadata": {},
     "output_type": "execute_result"
    }
   ],
   "source": [
    "# View the list of columns\n",
    "\n",
    "list(processed_tweets.columns) "
   ]
  },
  {
   "cell_type": "code",
   "execution_count": 5,
   "metadata": {},
   "outputs": [
    {
     "name": "stdout",
     "output_type": "stream",
     "text": [
      "<class 'pandas.core.frame.DataFrame'>\n",
      "RangeIndex: 19011 entries, 0 to 19010\n",
      "Data columns (total 15 columns):\n",
      " #   Column              Non-Null Count  Dtype  \n",
      "---  ------              --------------  -----  \n",
      " 0   created_at          19011 non-null  object \n",
      " 1   source              19011 non-null  object \n",
      " 2   original_text       19011 non-null  object \n",
      " 3   polarity            19011 non-null  float64\n",
      " 4   subjectivity        19011 non-null  float64\n",
      " 5   lang                19011 non-null  object \n",
      " 6   favorite_count      19011 non-null  int64  \n",
      " 7   retweet_count       19011 non-null  int64  \n",
      " 8   original_author     19011 non-null  object \n",
      " 9   followers_count     19011 non-null  int64  \n",
      " 10  friends_count       19011 non-null  int64  \n",
      " 11  possibly_sensitive  14869 non-null  object \n",
      " 12  hashtags            19011 non-null  object \n",
      " 13  user_mentions       19011 non-null  object \n",
      " 14  place               18658 non-null  object \n",
      "dtypes: float64(2), int64(4), object(9)\n",
      "memory usage: 2.2+ MB\n"
     ]
    }
   ],
   "source": [
    "# Find out details about each column\n",
    "processed_tweets.info() "
   ]
  },
  {
   "cell_type": "code",
   "execution_count": 6,
   "metadata": {},
   "outputs": [
    {
     "name": "stdout",
     "output_type": "stream",
     "text": [
      "Number of missing value(s) of each column:\n",
      "\n",
      "created_at               0\n",
      "source                   0\n",
      "original_text            0\n",
      "polarity                 0\n",
      "subjectivity             0\n",
      "lang                     0\n",
      "favorite_count           0\n",
      "retweet_count            0\n",
      "original_author          0\n",
      "followers_count          0\n",
      "friends_count            0\n",
      "possibly_sensitive    4142\n",
      "hashtags                 0\n",
      "user_mentions            0\n",
      "place                  353\n",
      "dtype: int64\n"
     ]
    }
   ],
   "source": [
    "\n",
    "print(\"Number of missing value(s) of each column:\\n\\n{}\".format(processed_tweets.isnull().sum()))"
   ]
  },
  {
   "cell_type": "code",
   "execution_count": 7,
   "metadata": {},
   "outputs": [
    {
     "name": "stdout",
     "output_type": "stream",
     "text": [
      "Number of missing value(s) - 4495\n"
     ]
    }
   ],
   "source": [
    "print(\"Number of missing value(s) - {}\".format(processed_tweets.isnull().sum().sum()))"
   ]
  },
  {
   "cell_type": "code",
   "execution_count": 8,
   "metadata": {},
   "outputs": [
    {
     "name": "stdout",
     "output_type": "stream",
     "text": [
      "Columns with missing value(s):['possibly_sensitive', 'place']\n"
     ]
    }
   ],
   "source": [
    "print(\"Columns with missing value(s):{}\".format(list(processed_tweets.columns[processed_tweets.isnull().any()])))"
   ]
  },
  {
   "cell_type": "markdown",
   "metadata": {},
   "source": [
    "### Missing Values Visualization"
   ]
  },
  {
   "cell_type": "code",
   "execution_count": 9,
   "metadata": {},
   "outputs": [
    {
     "data": {
      "text/plain": [
       "<AxesSubplot:>"
      ]
     },
     "execution_count": 9,
     "metadata": {},
     "output_type": "execute_result"
    },
    {
     "data": {
      "image/png": "[encoded data removed]",
      "text/plain": [
       "<Figure size 432x288 with 1 Axes>"
      ]
     },
     "metadata": {
      "needs_background": "light"
     },
     "output_type": "display_data"
    }
   ],
   "source": [
    "missing_values_count = processed_tweets.isnull().sum()\n",
    "missing_values_count.plot(kind='bar')"
   ]
  }
 ],
 "metadata": {
  "kernelspec": {
   "display_name": "Python 3.10.5 64-bit",
   "language": "python",
   "name": "python3"
  },
  "language_info": {
   "codemirror_mode": {
    "name": "ipython",
    "version": 3
   },
   "file_extension": ".py",
   "mimetype": "text/x-python",
   "name": "python",
   "nbconvert_exporter": "python",
   "pygments_lexer": "ipython3",
   "version": "3.10.5"
  },
  "orig_nbformat": 4,
  "vscode": {
   "interpreter": {
    "hash": "b1991c03751bb1ed07063b349673f109e299af7bd2e157024b7d7177e34b5cc3"
   }
  }
 },
 "nbformat": 4,
 "nbformat_minor": 2
}
